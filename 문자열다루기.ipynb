{
 "cells": [
  {
   "cell_type": "markdown",
   "metadata": {},
   "source": [
    "# 1. 문자열 분리\n",
    "- split() : 분리한 후 리스트로 반환\n",
    "    - maxsplit : str.split(sep, maxsplit = n) ㅡ> n번째 sep까지만 분리"
   ]
  },
  {
   "cell_type": "code",
   "execution_count": 1,
   "metadata": {},
   "outputs": [
    {
     "data": {
      "text/plain": [
       "['에스프레소', ' 아메리카노', ' 카페라떼', ' 카푸치노']"
      ]
     },
     "execution_count": 1,
     "metadata": {},
     "output_type": "execute_result"
    }
   ],
   "source": [
    "coffee_menu = '에스프레소, 아메리카노, 카페라떼, 카푸치노'\n",
    "coffee_menu.split(',')"
   ]
  },
  {
   "cell_type": "code",
   "execution_count": 2,
   "metadata": {},
   "outputs": [
    {
     "data": {
      "text/plain": [
       "list"
      ]
     },
     "execution_count": 2,
     "metadata": {},
     "output_type": "execute_result"
    }
   ],
   "source": [
    "type(coffee_menu.split(','))"
   ]
  },
  {
   "cell_type": "code",
   "execution_count": 3,
   "metadata": {},
   "outputs": [
    {
     "data": {
      "text/plain": [
       "['에스프레소', ' 아메리카노', ' 카페라떼, 카푸치노']"
      ]
     },
     "execution_count": 3,
     "metadata": {},
     "output_type": "execute_result"
    }
   ],
   "source": [
    "# maxsplit\n",
    "# 위에서 에스프레소 / 아메리카노 / 카페라떼, 카푸치노 로 분리\n",
    "\n",
    "coffee_menu.split(',',maxsplit=2)"
   ]
  },
  {
   "cell_type": "code",
   "execution_count": 4,
   "metadata": {},
   "outputs": [
    {
     "data": {
      "text/plain": [
       "3"
      ]
     },
     "execution_count": 4,
     "metadata": {},
     "output_type": "execute_result"
    }
   ],
   "source": [
    "len(coffee_menu.split(',',maxsplit=2))"
   ]
  },
  {
   "cell_type": "code",
   "execution_count": 5,
   "metadata": {},
   "outputs": [
    {
     "name": "stdout",
     "output_type": "stream",
     "text": [
      "국내전화번호 :  01-2345-6789\n"
     ]
    }
   ],
   "source": [
    "# 국가번호까지 있는 전화번호에서 국가번호를 뺀 나머지 번호를 구하기\n",
    "\n",
    "phone_number = '+82-01-2345-6789'\n",
    "\n",
    "phone = phone_number.split('-',maxsplit = 1)\n",
    "\n",
    "print('국내전화번호 : ',phone[1])"
   ]
  },
  {
   "cell_type": "markdown",
   "metadata": {},
   "source": [
    "# 2. 문자열 삭제\n",
    "- strip() : 문자열 앞뒤에서 시작해서 지정한 문자외의 다른 문자를 만날때까지 지정한 문자를 모두 삭제\n",
    "    - lstrip() : 왼쪽만 삭제\n",
    "    - rstrip() : 오른쪽만 삭제\n",
    "    \n",
    "cf. strip() 이렇게만 쓰면 문자열 앞뒤의 공백, \\n 삭제 (문자열 사이에 있는건 안 없어짐)"
   ]
  },
  {
   "cell_type": "code",
   "execution_count": 6,
   "metadata": {},
   "outputs": [
    {
     "data": {
      "text/plain": [
       "'Python'"
      ]
     },
     "execution_count": 6,
     "metadata": {},
     "output_type": "execute_result"
    }
   ],
   "source": [
    "str = '        Python\\n'\n",
    "str.strip()"
   ]
  },
  {
   "cell_type": "code",
   "execution_count": 7,
   "metadata": {},
   "outputs": [
    {
     "data": {
      "text/plain": [
       "'This is very \\n fast'"
      ]
     },
     "execution_count": 7,
     "metadata": {},
     "output_type": "execute_result"
    }
   ],
   "source": [
    "str2 = '  This is very \\n fast'\n",
    "str2.strip()"
   ]
  },
  {
   "cell_type": "code",
   "execution_count": 8,
   "metadata": {},
   "outputs": [
    {
     "data": {
      "text/plain": [
       "'PPPaPP'"
      ]
     },
     "execution_count": 8,
     "metadata": {},
     "output_type": "execute_result"
    }
   ],
   "source": [
    "'aaaPPPaPPaaa'.strip('a')"
   ]
  },
  {
   "cell_type": "code",
   "execution_count": 9,
   "metadata": {},
   "outputs": [
    {
     "data": {
      "text/plain": [
       "'Python'"
      ]
     },
     "execution_count": 9,
     "metadata": {},
     "output_type": "execute_result"
    }
   ],
   "source": [
    "'   Python   '.strip()"
   ]
  },
  {
   "cell_type": "code",
   "execution_count": 10,
   "metadata": {},
   "outputs": [
    {
     "data": {
      "text/plain": [
       "'Python'"
      ]
     },
     "execution_count": 10,
     "metadata": {},
     "output_type": "execute_result"
    }
   ],
   "source": [
    "test_str = 'aaabbPythonbbaa'\n",
    "\n",
    "test_str.strip('ab')"
   ]
  },
  {
   "cell_type": "code",
   "execution_count": 11,
   "metadata": {},
   "outputs": [
    {
     "data": {
      "text/plain": [
       "'Python'"
      ]
     },
     "execution_count": 11,
     "metadata": {},
     "output_type": "execute_result"
    }
   ],
   "source": [
    "test_str.strip('ba')"
   ]
  },
  {
   "cell_type": "code",
   "execution_count": 12,
   "metadata": {},
   "outputs": [
    {
     "name": "stdout",
     "output_type": "stream",
     "text": [
      "Python is easy to learn.\n",
      "Python is easy to learn.000\n",
      "000Python is easy to learn.\n"
     ]
    }
   ],
   "source": [
    "str_tr = '000Python is easy to learn.000'\n",
    "\n",
    "print(str_tr.strip('0'))\n",
    "print(str_tr.lstrip('0'))\n",
    "print(str_tr.rstrip('0'))"
   ]
  },
  {
   "cell_type": "code",
   "execution_count": 13,
   "metadata": {},
   "outputs": [
    {
     "name": "stdout",
     "output_type": "stream",
     "text": [
      "['에스프레소', '아메리카노', '카페라떼', '카푸치노']\n"
     ]
    }
   ],
   "source": [
    "# 공백을 모두 없애기\n",
    "\n",
    "coffee_menu = '  에스프레소,  아메리카노,  카페라떼   , 카푸치노'\n",
    "\n",
    "coffee_list = coffee_menu.split(',')\n",
    "coffee_list1 = []\n",
    "\n",
    "for i in coffee_list:\n",
    "    menu = i.strip()\n",
    "    coffee_list1.append(menu)\n",
    "    \n",
    "print(coffee_list1)"
   ]
  },
  {
   "cell_type": "markdown",
   "metadata": {},
   "source": [
    "# 3. 문자열 연결\n",
    "- 문자열 연결 : 문자열1 + 문자열2\n",
    "- 리스트 연결 : 구분자.join(list명)"
   ]
  },
  {
   "cell_type": "code",
   "execution_count": 14,
   "metadata": {},
   "outputs": [
    {
     "name": "stdout",
     "output_type": "stream",
     "text": [
      "가나다라마바\n"
     ]
    }
   ],
   "source": [
    "str1 = '가나다'\n",
    "str2 = '라마바'\n",
    "\n",
    "str3 = str1 + str2\n",
    "print(str3)"
   ]
  },
  {
   "cell_type": "code",
   "execution_count": 15,
   "metadata": {},
   "outputs": [
    {
     "data": {
      "text/plain": [
       "'서울시-서초구-반포대로'"
      ]
     },
     "execution_count": 15,
     "metadata": {},
     "output_type": "execute_result"
    }
   ],
   "source": [
    "address_list = ['서울시','서초구','반포대로']\n",
    "\n",
    "a = '-'\n",
    "a.join(address_list)"
   ]
  },
  {
   "cell_type": "markdown",
   "metadata": {},
   "source": [
    "# 4. 문자열 찾기\n",
    "- find() : 첫번째로 일치하는 문자열의 위치를 반환\n",
    "    - 없으면 -1 반환\n",
    "```\n",
    "    문자열.find(찾을 문자열, 시작위치, 끝 위치)     ㅡ> 시작위치만 쓸수도 있고, 둘다 안써도됨\n",
    "```\n",
    "- count() : 몇번 나오는지 카운트\n",
    "```\n",
    "    문자열.count(찾을 문자열, 시작위치, 끝 위치)     ㅡ> 시작위치만 쓸수도 있고, 둘다 안써도됨\n",
    "```\n",
    "- startswith(), endswith() : 문자열이 지정된 문자열로 시작하는지 or 끝나는지 검사 \n",
    "    - True or False로 반환\n",
    "```\n",
    "    문자열.startswith(검색해 볼 문자열, 시작위치, 끝 위치)     ㅡ> 시작위치만 쓸수도 있고, 둘다 안써도됨\n",
    "```"
   ]
  },
  {
   "cell_type": "markdown",
   "metadata": {},
   "source": [
    "### (1) find()"
   ]
  },
  {
   "cell_type": "code",
   "execution_count": 16,
   "metadata": {},
   "outputs": [
    {
     "name": "stdout",
     "output_type": "stream",
     "text": [
      "Python의 위치 :  0\n",
      "p의 위치 :  -1\n",
      "o의 위치 :  4\n",
      "의 위치 : 6\n"
     ]
    }
   ],
   "source": [
    "str_f = 'Python code'\n",
    "\n",
    "print('Python의 위치 : ', str_f.find('Python'))  # 단어 입력시 첫번째 알파벳의 위치를 반환\n",
    "print('p의 위치 : ', str_f.find('p'))   # 파이썬은 소문자와 대문자를 구분.소문자 =/= 대문자\n",
    "print('o의 위치 : ', str_f.find('o'))   # 첫번째 위치만 반환\n",
    "print('' '의 위치 :', str_f.find(' '))  # 공백의 위치도 찾을 수 있음"
   ]
  },
  {
   "cell_type": "code",
   "execution_count": 17,
   "metadata": {},
   "outputs": [
    {
     "name": "stdout",
     "output_type": "stream",
     "text": [
      "0\n",
      "20\n",
      "-1\n"
     ]
    }
   ],
   "source": [
    "# 시작위치, 끝위치 지정\n",
    "str_f_se = 'Python is powerful. Python is easy to learn.'\n",
    "\n",
    "print(str_f_se.find('Python'))\n",
    "print(str_f_se.find('Python',10,30))\n",
    "print(str_f_se.find('Python', 35))"
   ]
  },
  {
   "cell_type": "markdown",
   "metadata": {},
   "source": [
    "### (2) count"
   ]
  },
  {
   "cell_type": "code",
   "execution_count": 18,
   "metadata": {},
   "outputs": [
    {
     "name": "stdout",
     "output_type": "stream",
     "text": [
      "Python의 개수 :  3\n"
     ]
    }
   ],
   "source": [
    "str_c = 'Python is powerful. Python is easy to learn. Python is open.'\n",
    "\n",
    "print('Python의 개수 : ', str_c.count('Python'))"
   ]
  },
  {
   "cell_type": "markdown",
   "metadata": {},
   "source": [
    "### (3) startswith"
   ]
  },
  {
   "cell_type": "code",
   "execution_count": 19,
   "metadata": {},
   "outputs": [
    {
     "name": "stdout",
     "output_type": "stream",
     "text": [
      "Python으로 시작?  True\n"
     ]
    }
   ],
   "source": [
    "str_se = 'Python is powerful. Python is easy to learn'\n",
    "\n",
    "print('Python으로 시작? ', str_se.startswith('Python'))"
   ]
  },
  {
   "cell_type": "markdown",
   "metadata": {},
   "source": [
    "# 5. 문자열 바꾸기\n",
    "- replace() : 문자열.replace(old, new, count)\n",
    "    - 횟수를 지정하지 않으면 문자열 전체에서 찾아서 바꿈"
   ]
  },
  {
   "cell_type": "code",
   "execution_count": 20,
   "metadata": {},
   "outputs": [
    {
     "name": "stdout",
     "output_type": "stream",
     "text": [
      "IPython is fast. IPython is friendly. IPython is open.\n",
      "IPython is fast. Python is friendly. Python is open.\n"
     ]
    }
   ],
   "source": [
    "str_a = 'Python is fast. Python is friendly. Python is open.'\n",
    "\n",
    "print(str_a.replace('Python', 'IPython'))\n",
    "print(str_a.replace('Python', 'IPython', 1))   # 1번만 바꾸기"
   ]
  },
  {
   "cell_type": "code",
   "execution_count": 21,
   "metadata": {},
   "outputs": [
    {
     "name": "stdout",
     "output_type": "stream",
     "text": [
      "Python is fast\n"
     ]
    }
   ],
   "source": [
    "# 특정 문자열을 삭제할때도 replace() 이용가능\n",
    "\n",
    "str_b ='[Python] [is] [fast]'\n",
    "\n",
    "str_b1 = str_b.replace('[','')\n",
    "str_b2 = str_b1.replace(']','')\n",
    "\n",
    "print(str_b2)"
   ]
  },
  {
   "cell_type": "markdown",
   "metadata": {},
   "source": [
    "# 6. 문자열 구성 확인\n",
    "- isalpha() : 문자열이 모두 알파벳으로 이루어졌을때 True (문자열에 숫자,특수문자,공백이 없을때)\n",
    "- isdigit() : 모두 숫자일때 True\n",
    "- isalnum() : 특수문자,공백이 아닌 문자와 숫자일때 True\n",
    "- isspace() : 모두 공백일때 True\n",
    "- isupper() : 모두 대문자일때 True\n",
    "- islower() : 모두 소문자일때 True"
   ]
  },
  {
   "cell_type": "markdown",
   "metadata": {},
   "source": [
    "### (1) isalpha"
   ]
  },
  {
   "cell_type": "code",
   "execution_count": 22,
   "metadata": {},
   "outputs": [
    {
     "name": "stdout",
     "output_type": "stream",
     "text": [
      "True\n"
     ]
    }
   ],
   "source": [
    "print('Python'.isalpha())"
   ]
  },
  {
   "cell_type": "code",
   "execution_count": 23,
   "metadata": {},
   "outputs": [
    {
     "name": "stdout",
     "output_type": "stream",
     "text": [
      "False\n"
     ]
    }
   ],
   "source": [
    "print(' Python'.isalpha())"
   ]
  },
  {
   "cell_type": "markdown",
   "metadata": {},
   "source": [
    "### (2) isdigit"
   ]
  },
  {
   "cell_type": "code",
   "execution_count": 24,
   "metadata": {},
   "outputs": [
    {
     "name": "stdout",
     "output_type": "stream",
     "text": [
      "True\n",
      "False\n"
     ]
    }
   ],
   "source": [
    "print('1234'.isdigit())\n",
    "print('1234  '.isdigit())"
   ]
  },
  {
   "cell_type": "markdown",
   "metadata": {},
   "source": [
    "### (3) isalnum"
   ]
  },
  {
   "cell_type": "code",
   "execution_count": 25,
   "metadata": {},
   "outputs": [
    {
     "name": "stdout",
     "output_type": "stream",
     "text": [
      "True\n",
      "False\n"
     ]
    }
   ],
   "source": [
    "print('1234abc'.isalnum())\n",
    "print('1234,abc'.isalnum())"
   ]
  },
  {
   "cell_type": "markdown",
   "metadata": {},
   "source": [
    "### (4) isspace"
   ]
  },
  {
   "cell_type": "code",
   "execution_count": 26,
   "metadata": {},
   "outputs": [
    {
     "name": "stdout",
     "output_type": "stream",
     "text": [
      "False\n",
      "True\n"
     ]
    }
   ],
   "source": [
    "print('  123'.isspace())\n",
    "print('  '.isspace())"
   ]
  },
  {
   "cell_type": "markdown",
   "metadata": {},
   "source": [
    "### (5) isupper, islower"
   ]
  },
  {
   "cell_type": "code",
   "execution_count": 27,
   "metadata": {},
   "outputs": [
    {
     "name": "stdout",
     "output_type": "stream",
     "text": [
      "False\n",
      "True\n",
      "True\n",
      "False\n"
     ]
    }
   ],
   "source": [
    "print('aBc'.isupper())\n",
    "print('ABC'.isupper())\n",
    "print('abc'.islower())\n",
    "print('ABc'.islower())"
   ]
  },
  {
   "cell_type": "code",
   "execution_count": 28,
   "metadata": {},
   "outputs": [
    {
     "name": "stdout",
     "output_type": "stream",
     "text": [
      "True\n"
     ]
    }
   ],
   "source": [
    "print('ABC~~'.isupper())"
   ]
  },
  {
   "cell_type": "code",
   "execution_count": 29,
   "metadata": {},
   "outputs": [
    {
     "name": "stdout",
     "output_type": "stream",
     "text": [
      "True\n"
     ]
    }
   ],
   "source": [
    "print('ABC~~  12*'.isupper())"
   ]
  },
  {
   "cell_type": "markdown",
   "metadata": {},
   "source": [
    "# 7. 대소문자 변경\n",
    "- upper() : 대문자로 변경\n",
    "- lower() : 소문자로 변경"
   ]
  },
  {
   "cell_type": "code",
   "execution_count": 30,
   "metadata": {},
   "outputs": [
    {
     "name": "stdout",
     "output_type": "stream",
     "text": [
      "PYTHON IS POWERFUL. PYTHON IS EASY TO LEARN\n",
      "python is powerful. python is easy to learn\n"
     ]
    }
   ],
   "source": [
    "string1 = 'Python is powerful. PYTHON IS EASY TO LEARN'\n",
    "\n",
    "print(string1.upper())\n",
    "print(string1.lower())"
   ]
  }
 ],
 "metadata": {
  "kernelspec": {
   "display_name": "Python 3",
   "language": "python",
   "name": "python3"
  },
  "language_info": {
   "codemirror_mode": {
    "name": "ipython",
    "version": 3
   },
   "file_extension": ".py",
   "mimetype": "text/x-python",
   "name": "python",
   "nbconvert_exporter": "python",
   "pygments_lexer": "ipython3",
   "version": "3.8.5"
  }
 },
 "nbformat": 4,
 "nbformat_minor": 4
}
