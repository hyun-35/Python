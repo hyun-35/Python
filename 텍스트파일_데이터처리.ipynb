{
 "cells": [
  {
   "cell_type": "code",
   "execution_count": 1,
   "metadata": {},
   "outputs": [
    {
     "name": "stdout",
     "output_type": "stream",
     "text": [
      "날짜    에스프레소  아메리카노  카페라테  카푸치노\n",
      "10.15       10  \t50         45       20   \n",
      "10.16       12\t\t45         41       18\n",
      "10.17       11\t\t53         32       25\n",
      "10.18       15\t\t49         38       22\n"
     ]
    }
   ],
   "source": [
    "!cat coffeeshop.txt"
   ]
  },
  {
   "cell_type": "code",
   "execution_count": 2,
   "metadata": {},
   "outputs": [],
   "source": [
    "# 4일동안 메뉴당 전체 판매량과 평균 판매량 구하기"
   ]
  },
  {
   "cell_type": "code",
   "execution_count": 3,
   "metadata": {},
   "outputs": [
    {
     "data": {
      "text/plain": [
       "'날짜    에스프레소  아메리카노  카페라테  카푸치노\\n'"
      ]
     },
     "execution_count": 3,
     "metadata": {},
     "output_type": "execute_result"
    }
   ],
   "source": [
    "f = open('coffeeshop.txt','r')\n",
    "line = f.readline()\n",
    "f.close()\n",
    "\n",
    "line"
   ]
  },
  {
   "cell_type": "code",
   "execution_count": 4,
   "metadata": {},
   "outputs": [],
   "source": [
    "# 데이터 읽어오기\n",
    "f = open('coffeeshop.txt','r')\n",
    "\n",
    "# 메뉴명 분리\n",
    "menu = f.readline()\n",
    "list_menu = menu.split()\n",
    "del list_menu[0]\n",
    "\n",
    "# 커피종류별 리스트 생성\n",
    "list1 = []\n",
    "list2 = []\n",
    "list3 = []\n",
    "list4 = []\n",
    "\n",
    "# 리스트에 날짜마다의 판매량 넣기\n",
    "for line in f:\n",
    "    line1 = line.split()\n",
    "    del line1[0]\n",
    "    \n",
    "    list1.append(int(line1[0]))\n",
    "    list2.append(int(line1[1]))\n",
    "    list3.append(int(line1[2]))\n",
    "    list4.append(int(line1[3]))\n",
    "    \n",
    "f.close()"
   ]
  },
  {
   "cell_type": "code",
   "execution_count": 5,
   "metadata": {},
   "outputs": [
    {
     "data": {
      "text/plain": [
       "([48, 197, 156, 85], [12.0, 49.25, 39.0, 21.25])"
      ]
     },
     "execution_count": 5,
     "metadata": {},
     "output_type": "execute_result"
    }
   ],
   "source": [
    "# 각 커피의 합계와 평균 리스트 작성\n",
    "list_total = [list1,list2,list3,list4]\n",
    "sum_total =[]\n",
    "ave_total =[]\n",
    "\n",
    "for i in list_total:\n",
    "    sum_total.append(sum(i))\n",
    "    ave_total.append(sum(i)/len(i))\n",
    "    \n",
    "sum_total, ave_total"
   ]
  },
  {
   "cell_type": "code",
   "execution_count": 6,
   "metadata": {},
   "outputs": [
    {
     "data": {
      "text/plain": [
       "['에스프레소', '아메리카노', '카페라테', '카푸치노']"
      ]
     },
     "execution_count": 6,
     "metadata": {},
     "output_type": "execute_result"
    }
   ],
   "source": [
    "list_menu"
   ]
  },
  {
   "cell_type": "code",
   "execution_count": 7,
   "metadata": {},
   "outputs": [
    {
     "name": "stdout",
     "output_type": "stream",
     "text": [
      "에스프레소의 전체 판매량 : 48, 에스프레소의 평균 판매량 : 12.0\n",
      "\n",
      "\n",
      "아메리카노의 전체 판매량 : 197, 아메리카노의 평균 판매량 : 49.25\n",
      "\n",
      "\n",
      "카페라테의 전체 판매량 : 156, 카페라테의 평균 판매량 : 39.0\n",
      "\n",
      "\n",
      "카푸치노의 전체 판매량 : 85, 카푸치노의 평균 판매량 : 21.25\n",
      "\n",
      "\n"
     ]
    }
   ],
   "source": [
    "for i in range(len(list_menu)):\n",
    "    print('{0}의 전체 판매량 : {1}, {0}의 평균 판매량 : {2}'.format(list_menu[i],sum_total[i],ave_total[i]))\n",
    "    print('\\n')"
   ]
  },
  {
   "cell_type": "code",
   "execution_count": null,
   "metadata": {},
   "outputs": [],
   "source": []
  }
 ],
 "metadata": {
  "kernelspec": {
   "display_name": "Python 3",
   "language": "python",
   "name": "python3"
  },
  "language_info": {
   "codemirror_mode": {
    "name": "ipython",
    "version": 3
   },
   "file_extension": ".py",
   "mimetype": "text/x-python",
   "name": "python",
   "nbconvert_exporter": "python",
   "pygments_lexer": "ipython3",
   "version": "3.8.5"
  }
 },
 "nbformat": 4,
 "nbformat_minor": 4
}
