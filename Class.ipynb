{
 "cells": [
  {
   "cell_type": "markdown",
   "metadata": {},
   "source": [
    " # 클래스 선언과 객체 생성\n",
    "- 클래스 : 객체의 공통된 속성과 행위를 변수와 함수로 정의한 것\n",
    "            객체를 만들기 위한 기본틀\n",
    "- 객체 : 클래스의 인스턴스"
   ]
  },
  {
   "cell_type": "code",
   "execution_count": 1,
   "metadata": {},
   "outputs": [],
   "source": [
    "# 클래스 생성\n",
    "\n",
    "class Bicycle():\n",
    "    pass"
   ]
  },
  {
   "cell_type": "code",
   "execution_count": 2,
   "metadata": {},
   "outputs": [],
   "source": [
    "# 객체 생성 : 객체를 클래스의 인스턴스라고 함\n",
    "\n",
    "my_bicycle = Bicycle()"
   ]
  },
  {
   "cell_type": "code",
   "execution_count": 3,
   "metadata": {},
   "outputs": [
    {
     "data": {
      "text/plain": [
       "<__main__.Bicycle at 0x2a2b29c89d0>"
      ]
     },
     "execution_count": 3,
     "metadata": {},
     "output_type": "execute_result"
    }
   ],
   "source": [
    "my_bicycle"
   ]
  },
  {
   "cell_type": "code",
   "execution_count": 4,
   "metadata": {},
   "outputs": [],
   "source": [
    "# 객체의 속성 설정\n",
    "\n",
    "my_bicycle.wheel_size = 26\n",
    "my_bicycle.color = 'black'"
   ]
  },
  {
   "cell_type": "code",
   "execution_count": 5,
   "metadata": {},
   "outputs": [
    {
     "name": "stdout",
     "output_type": "stream",
     "text": [
      "바퀴 크기 :  26\n",
      "색상 :  black\n"
     ]
    }
   ],
   "source": [
    "print('바퀴 크기 : ', my_bicycle.wheel_size)\n",
    "print('색상 : ', my_bicycle.color)"
   ]
  },
  {
   "cell_type": "code",
   "execution_count": 6,
   "metadata": {},
   "outputs": [],
   "source": [
    "# 클래스에 함수 추가\n",
    "\n",
    "class Bicycle():\n",
    "    \n",
    "    def move(self, speed):\n",
    "        print('자전거 : 시속 {}킬로미터로 전진'.format(speed))\n",
    "        \n",
    "    def turn(self, direction):\n",
    "        print('자전거 : {}회전'.format(direction))\n",
    "        \n",
    "    def stop(self):\n",
    "        print('자전거({}, {}): 정지'.format(self.wheel_size, self.color))"
   ]
  },
  {
   "cell_type": "code",
   "execution_count": 7,
   "metadata": {},
   "outputs": [],
   "source": [
    "# 객체 생성\n",
    "\n",
    "my_bicycle = Bicycle()"
   ]
  },
  {
   "cell_type": "code",
   "execution_count": 8,
   "metadata": {},
   "outputs": [],
   "source": [
    "# 객체 속성 설정\n",
    "\n",
    "my_bicycle.wheel_size = 26\n",
    "my_bicycle.color = 'black'"
   ]
  },
  {
   "cell_type": "code",
   "execution_count": 9,
   "metadata": {},
   "outputs": [
    {
     "name": "stdout",
     "output_type": "stream",
     "text": [
      "자전거 : 시속 30킬로미터로 전진\n"
     ]
    }
   ],
   "source": [
    "# 객체의 메서드 호출\n",
    "\n",
    "my_bicycle.move(30)"
   ]
  },
  {
   "cell_type": "code",
   "execution_count": 10,
   "metadata": {},
   "outputs": [
    {
     "name": "stdout",
     "output_type": "stream",
     "text": [
      "자전거 : 좌회전\n"
     ]
    }
   ],
   "source": [
    "my_bicycle.turn('좌')"
   ]
  },
  {
   "cell_type": "code",
   "execution_count": 11,
   "metadata": {},
   "outputs": [
    {
     "name": "stdout",
     "output_type": "stream",
     "text": [
      "자전거(26, black): 정지\n"
     ]
    }
   ],
   "source": [
    "my_bicycle.stop()"
   ]
  },
  {
   "cell_type": "code",
   "execution_count": 12,
   "metadata": {},
   "outputs": [
    {
     "name": "stdout",
     "output_type": "stream",
     "text": [
      "자전거 : 시속 15킬로미터로 전진\n",
      "자전거 : 우회전\n",
      "자전거(24, blue): 정지\n"
     ]
    }
   ],
   "source": [
    "bicyle2 = Bicycle()\n",
    "\n",
    "bicyle2.wheel_size = 24\n",
    "bicyle2.color = 'blue'\n",
    "\n",
    "bicyle2.move(15)\n",
    "bicyle2.turn('우')\n",
    "bicyle2.stop()"
   ]
  },
  {
   "cell_type": "markdown",
   "metadata": {},
   "source": [
    "###### __ini__ : 이걸 선언하면 객체를 생성하는 것과 동시에 속성값 지정 할 수 있음\n",
    "- 클래스의 인스턴스가 생성될때 자동으로 실행\n",
    "- 초기화하려는 인자를 정의하면 객체를 생성할 때 속성을 초기화할수 있음"
   ]
  },
  {
   "cell_type": "code",
   "execution_count": 13,
   "metadata": {},
   "outputs": [],
   "source": [
    "class Bicycle():\n",
    "    \n",
    "    def __init__(self, wheel_size, color):\n",
    "        self.wheel_size = wheel_size\n",
    "        self.color = color\n",
    "        \n",
    "    def move(self, speed):\n",
    "        print('자전거 : 시속 {}킬로미터로 전진'.format(speed))\n",
    "        \n",
    "    def turn(self, direction):\n",
    "        print('자전거 : {}회전'.format(direction))\n",
    "        \n",
    "    def stop(self):\n",
    "        print('자전거({}, {}): 정지'.format(self.wheel_size, self.color))"
   ]
  },
  {
   "cell_type": "code",
   "execution_count": 14,
   "metadata": {},
   "outputs": [
    {
     "name": "stdout",
     "output_type": "stream",
     "text": [
      "자전거 : 시속 40킬로미터로 전진\n",
      "자전거 : 좌회전\n",
      "자전거(26, white): 정지\n"
     ]
    }
   ],
   "source": [
    "my_bicycle3 = Bicycle(26, 'white')  # 객체 생성과 동시에 속성값을 지정\n",
    "\n",
    "my_bicycle3.move(40)\n",
    "my_bicycle3.turn('좌')\n",
    "my_bicycle3.stop()"
   ]
  },
  {
   "cell_type": "markdown",
   "metadata": {},
   "source": [
    "#### 클래스변수\n",
    "- 클래스변수 : 클래스 내에 있지만, 함수 밖에서 '변수명=데이터'형식으로 정의한 변수로 클래스에서 생성한 모든 객체가 공통으로 사용\n"
   ]
  },
  {
   "cell_type": "code",
   "execution_count": 15,
   "metadata": {},
   "outputs": [],
   "source": [
    "class Car():\n",
    "    instance_count = 0 # 클래스 변수 생성 및 초기화\n",
    "    \n",
    "    def __init__(self, size, color):   # size, color : 인스턴스 변수\n",
    "        self.size = size    # 인스턴스 변수 생성 및 초기화\n",
    "        self.color = color  # 인스턴스 변수 생성 및 초기화\n",
    "        Car.instance_count = Car.instance_count + 1 # 클래스 변수 이용\n",
    "        \n",
    "    def move(self):\n",
    "        print('자동차({} & {})가 움직입니다.'.format(self.size, self.color))"
   ]
  },
  {
   "cell_type": "code",
   "execution_count": 16,
   "metadata": {},
   "outputs": [],
   "source": [
    "car1 = Car('small', 'white')\n",
    "car2 = Car('big', 'black')"
   ]
  },
  {
   "cell_type": "code",
   "execution_count": 17,
   "metadata": {},
   "outputs": [
    {
     "name": "stdout",
     "output_type": "stream",
     "text": [
      "자동차(small & white)가 움직입니다.\n",
      "자동차(big & black)가 움직입니다.\n"
     ]
    }
   ],
   "source": [
    "car1.move()\n",
    "car2.move()"
   ]
  },
  {
   "cell_type": "code",
   "execution_count": 18,
   "metadata": {},
   "outputs": [
    {
     "name": "stdout",
     "output_type": "stream",
     "text": [
      "Car 클래스의 총 인스턴스 개수 : 2\n"
     ]
    }
   ],
   "source": [
    "# 클래스변수 호출\n",
    "\n",
    "print('Car 클래스의 총 인스턴스 개수 : {}'.format(Car.instance_count))"
   ]
  },
  {
   "cell_type": "code",
   "execution_count": 19,
   "metadata": {},
   "outputs": [
    {
     "name": "stdout",
     "output_type": "stream",
     "text": [
      "2\n",
      "2\n"
     ]
    }
   ],
   "source": [
    "# 클래스변수는 '객체명.변수명'형식으로도 가능\n",
    "\n",
    "print(car1.instance_count)\n",
    "print(car2.instance_count)   # 결과가 같은 것은 클래스 변수는 공통으로 사용되기 때문"
   ]
  },
  {
   "cell_type": "code",
   "execution_count": 20,
   "metadata": {},
   "outputs": [],
   "source": [
    "# 이름이 같은 클래스변수와 인스턴스 변수\n",
    "# 이름은 같지만 별개로 동작"
   ]
  },
  {
   "cell_type": "code",
   "execution_count": 21,
   "metadata": {},
   "outputs": [],
   "source": [
    "class Car2():\n",
    "    \n",
    "    count = 0 # 클래스 변수\n",
    "    \n",
    "    def __init__(self, size, num):\n",
    "        self.size = size  # 인스턴스 변수\n",
    "        self.count = num  # 인스턴스 변수\n",
    "        Car2.count = Car2.count + 1\n",
    "        print('자동차 객체의 수: ', Car2.count)\n",
    "        print('인스턴스 변수 초기화 : ', self.count)\n",
    "        \n",
    "    def move(self):\n",
    "        print('자동차({} & {})가 움직입니다.'.format(self.size, self.color))"
   ]
  },
  {
   "cell_type": "code",
   "execution_count": 22,
   "metadata": {},
   "outputs": [
    {
     "name": "stdout",
     "output_type": "stream",
     "text": [
      "자동차 객체의 수:  1\n",
      "인스턴스 변수 초기화 :  20\n",
      "자동차 객체의 수:  2\n",
      "인스턴스 변수 초기화 :  30\n"
     ]
    }
   ],
   "source": [
    "car1 = Car2('big', 20)\n",
    "car2 = Car2('small', 30)"
   ]
  },
  {
   "cell_type": "markdown",
   "metadata": {},
   "source": [
    "##### 인스턴스 메서드\n",
    "- 각 객체에서 개별적으로 동작하는 함수를 만들고자 할때 사용하는 함수\n",
    "- 인스턴스 메서드는 함수를 정의할때 첫 인자로 self가 필요"
   ]
  },
  {
   "cell_type": "code",
   "execution_count": 23,
   "metadata": {},
   "outputs": [],
   "source": [
    "class Car():\n",
    "    instance_count = 0\n",
    "    \n",
    "    # 초기화 함수(인스턴스 메서드)\n",
    "    def __init__(self, size, color):\n",
    "        self.size = size\n",
    "        self.color = color\n",
    "        Car.instance_count = Car.instance_count + 1\n",
    "        print('자동차 객체의 수 : ', Car.instance_count)\n",
    "        \n",
    "    # 인스턴스 메서드\n",
    "    def move(self, speed):\n",
    "        self.speed = speed\n",
    "        print('자동차({} & {})가 '.format(self.size, self.color), end = '')\n",
    "        print('시속 {}킬로미터로 전진'.format(self.speed))\n",
    "      \n",
    "    # 인스턴스 메서드\n",
    "    def auto_cruise(self):\n",
    "        print('자율 주행 모드')\n",
    "        self.move(self.speed)   # move() 함수의 인자로 인스턴스 변수 입력"
   ]
  },
  {
   "cell_type": "code",
   "execution_count": 24,
   "metadata": {},
   "outputs": [
    {
     "name": "stdout",
     "output_type": "stream",
     "text": [
      "자동차 객체의 수 :  1\n",
      "자동차 객체의 수 :  2\n"
     ]
    }
   ],
   "source": [
    "car1 = Car('small','red')\n",
    "car2 = Car('big', 'green')"
   ]
  },
  {
   "cell_type": "code",
   "execution_count": 25,
   "metadata": {},
   "outputs": [
    {
     "name": "stdout",
     "output_type": "stream",
     "text": [
      "자동차(small & red)가 시속 80킬로미터로 전진\n"
     ]
    }
   ],
   "source": [
    "car1.move(80)"
   ]
  },
  {
   "cell_type": "code",
   "execution_count": 26,
   "metadata": {},
   "outputs": [
    {
     "name": "stdout",
     "output_type": "stream",
     "text": [
      "자동차(big & green)가 시속 100킬로미터로 전진\n"
     ]
    }
   ],
   "source": [
    "car2.move(100)"
   ]
  },
  {
   "cell_type": "code",
   "execution_count": 27,
   "metadata": {},
   "outputs": [
    {
     "name": "stdout",
     "output_type": "stream",
     "text": [
      "자율 주행 모드\n",
      "자동차(small & red)가 시속 80킬로미터로 전진\n",
      "자율 주행 모드\n",
      "자동차(big & green)가 시속 100킬로미터로 전진\n"
     ]
    }
   ],
   "source": [
    "car1.auto_cruise()\n",
    "car2.auto_cruise()"
   ]
  },
  {
   "cell_type": "markdown",
   "metadata": {},
   "source": [
    "##### 정적메서드\n",
    "- 클래스나 객체와는 무관하게 독립적으로 동작하는 함수를 만들고 싶을때 이용\n",
    "- self인자를 사용하지 않는다.\n",
    "- 함수 앞에 데코레이터 (@) 선언해서 정적메서드임을 표시\n",
    "- 보통 객체를 생성하지 않고 클래스명을 이용해 바로 메서드 호출"
   ]
  },
  {
   "cell_type": "code",
   "execution_count": 28,
   "metadata": {},
   "outputs": [],
   "source": [
    "class Car():\n",
    "    instance_count = 0\n",
    "    \n",
    "    # 초기화 함수(인스턴스 메서드)\n",
    "    def __init__(self, size, color):\n",
    "        self.size = size\n",
    "        self.color = color\n",
    "        Car.instance_count = Car.instance_count + 1\n",
    "        print('자동차 객체의 수 : ', Car.instance_count)\n",
    "        \n",
    "    # 인스턴스 메서드\n",
    "    def move(self, speed):\n",
    "        self.speed = speed\n",
    "        print('자동차({} & {})가 '.format(self.size, self.color), end = '')\n",
    "        print('시속 {}킬로미터로 전진'.format(self.speed))\n",
    "      \n",
    "    # 인스턴스 메서드\n",
    "    def auto_cruise(self):\n",
    "        print('자율 주행 모드')\n",
    "        self.move(self.speed)   # move() 함수의 인자로 인스턴스 변수 입력\n",
    "        \n",
    "    @staticmethod\n",
    "    def check_type(model_code):\n",
    "        if(model_code >= 20):\n",
    "            print('이 자동차는 전기차입니다.')\n",
    "        elif(10 <= model_code < 20):\n",
    "            print('이 자동차는 가솔린차입니다.')\n",
    "        else:\n",
    "            print('이 자동차는 디젤차입니다.')\n",
    "    "
   ]
  },
  {
   "cell_type": "code",
   "execution_count": 29,
   "metadata": {},
   "outputs": [
    {
     "name": "stdout",
     "output_type": "stream",
     "text": [
      "이 자동차는 전기차입니다.\n"
     ]
    }
   ],
   "source": [
    "# 클래스명.정적메서드명() 으로 호출\n",
    "\n",
    "Car.check_type(25)"
   ]
  },
  {
   "cell_type": "markdown",
   "metadata": {},
   "source": [
    "##### 클래스 메서드\n",
    "- 클래스 변수를 사용하기 위한 함수\n",
    "- 첫번째 인자로 클래스를 넘겨받는 cls가 필요\n",
    "- @classmethod 지정"
   ]
  },
  {
   "cell_type": "code",
   "execution_count": 30,
   "metadata": {},
   "outputs": [],
   "source": [
    "class Car():\n",
    "    instance_count = 0\n",
    "    \n",
    "    # 초기화 함수(인스턴스 메서드)\n",
    "    def __init__(self, size, color):\n",
    "        self.size = size\n",
    "        self.color = color\n",
    "        Car.instance_count = Car.instance_count + 1\n",
    "        \n",
    "    # 인스턴스 메서드\n",
    "    def move(self, speed):\n",
    "        self.speed = speed\n",
    "        print('자동차({} & {})가 '.format(self.size, self.color), end = '')\n",
    "        print('시속 {}킬로미터로 전진'.format(self.speed))\n",
    "      \n",
    "    # 인스턴스 메서드\n",
    "    def auto_cruise(self):\n",
    "        print('자율 주행 모드')\n",
    "        self.move(self.speed)   # move() 함수의 인자로 인스턴스 변수 입력\n",
    "        \n",
    "    # 클래스 메서드\n",
    "    @classmethod\n",
    "    def count_instance(cls):\n",
    "        print('자동차 객체의 수 : ', cls.instance_count)"
   ]
  },
  {
   "cell_type": "code",
   "execution_count": 31,
   "metadata": {},
   "outputs": [
    {
     "name": "stdout",
     "output_type": "stream",
     "text": [
      "자동차 객체의 수 :  0\n"
     ]
    }
   ],
   "source": [
    "Car.count_instance()"
   ]
  },
  {
   "cell_type": "code",
   "execution_count": 32,
   "metadata": {},
   "outputs": [
    {
     "name": "stdout",
     "output_type": "stream",
     "text": [
      "자동차 객체의 수 :  1\n"
     ]
    }
   ],
   "source": [
    "car1 = Car('small', 'red')\n",
    "Car.count_instance()"
   ]
  },
  {
   "cell_type": "markdown",
   "metadata": {},
   "source": [
    "##### 클래스를 사용하지 않을때와 사용할때 비교"
   ]
  },
  {
   "cell_type": "code",
   "execution_count": 33,
   "metadata": {},
   "outputs": [],
   "source": [
    "robot_name = 'R1' # 로봇이름\n",
    "robot_pos = 0 # 로봇의 초기 위치\n",
    "\n",
    "def robot_move():\n",
    "    global robot_pos\n",
    "    robot_pos = robot_pos + 1\n",
    "    print('{} position : {}'.format(robot_name, robot_pos))"
   ]
  },
  {
   "cell_type": "code",
   "execution_count": 34,
   "metadata": {},
   "outputs": [
    {
     "name": "stdout",
     "output_type": "stream",
     "text": [
      "R1 position : 1\n"
     ]
    }
   ],
   "source": [
    "robot_move()"
   ]
  },
  {
   "cell_type": "code",
   "execution_count": 35,
   "metadata": {},
   "outputs": [],
   "source": [
    "# 두 대의 로봇을 구현한 코드\n",
    "\n",
    "robot1_name = 'R1' # 로봇이름\n",
    "robot1_pos = 0 # 로봇의 초기 위치\n",
    "\n",
    "def robot1_move():\n",
    "    global robot1_pos\n",
    "    robot1_pos = robot1_pos + 1\n",
    "    print('{} position : {}'.format(robot1_name, robot1_pos))\n",
    "    \n",
    "robot2_name = 'R2' # 로봇이름\n",
    "robot2_pos = 10 # 로봇의 초기 위치\n",
    "\n",
    "def robot2_move():\n",
    "    global robot2_pos\n",
    "    robot2_pos = robot2_pos + 1\n",
    "    print('{} position : {}'.format(robot2_name, robot2_pos))"
   ]
  },
  {
   "cell_type": "code",
   "execution_count": 36,
   "metadata": {},
   "outputs": [
    {
     "name": "stdout",
     "output_type": "stream",
     "text": [
      "R1 position : 1\n",
      "R2 position : 11\n"
     ]
    }
   ],
   "source": [
    "robot1_move()\n",
    "robot2_move()"
   ]
  },
  {
   "cell_type": "code",
   "execution_count": 37,
   "metadata": {},
   "outputs": [],
   "source": [
    "# 클래스 선언\n",
    "\n",
    "class Robot():\n",
    "    def __init__(self, name, pos):\n",
    "        self.name = name\n",
    "        self.pos = pos\n",
    "        \n",
    "    def move(self):\n",
    "        self.pos = self.pos + 1\n",
    "        print('{} position : {}'.format(self.name, self.pos))"
   ]
  },
  {
   "cell_type": "code",
   "execution_count": 38,
   "metadata": {},
   "outputs": [],
   "source": [
    "robot1 = Robot('R1',0)\n",
    "robot2 = Robot('R2', 10)"
   ]
  },
  {
   "cell_type": "code",
   "execution_count": 39,
   "metadata": {},
   "outputs": [
    {
     "name": "stdout",
     "output_type": "stream",
     "text": [
      "R1 position : 1\n",
      "R2 position : 11\n"
     ]
    }
   ],
   "source": [
    "robot1.move()\n",
    "robot2.move()"
   ]
  },
  {
   "cell_type": "markdown",
   "metadata": {},
   "source": [
    "##### 클래스 상속"
   ]
  },
  {
   "cell_type": "code",
   "execution_count": 40,
   "metadata": {},
   "outputs": [],
   "source": [
    "class Bicycle():\n",
    "    def __init__(self, wheel_size,color):\n",
    "        self.wheel_size = wheel_size\n",
    "        self.color = color\n",
    "        \n",
    "    def move(self, speed):\n",
    "        print('자전거 : 시속 {}킬로미터로 전진'.format(speed))\n",
    "        \n",
    "    def turn(self, direction):\n",
    "        print('자전거 : {}회전'.format(direction))\n",
    "        \n",
    "    def stop(self):\n",
    "        print('자전거(({}. {}) : 정지'.format(self.wheel_size, self_color))"
   ]
  },
  {
   "cell_type": "code",
   "execution_count": 41,
   "metadata": {},
   "outputs": [],
   "source": [
    "# Bicycle을 상속해 받는 FoldingBicyle을 만듬\n",
    "\n",
    "class FoldingBicycle(Bicycle):\n",
    "    \n",
    "    def __init__(self, wheel_size, color, state):\n",
    "        Bicycle.__init__(self, wheel_size, color)\n",
    "        # super.__init__(wheel_size, color) 와 동일\n",
    "        self.state = state\n",
    "        \n",
    "    def fold(self):\n",
    "        self.state = 'folding'\n",
    "        print('자전거 : 접기, state = {}'.format(self.state))\n",
    "    \n",
    "    def unfold(self):\n",
    "        self.state = 'unfolding'\n",
    "        print('자전거 : 펴기, sate = {}'.format(self.state))"
   ]
  },
  {
   "cell_type": "code",
   "execution_count": 42,
   "metadata": {},
   "outputs": [],
   "source": [
    "folding_bicycle = FoldingBicycle(27, 'white', 'unfolding')"
   ]
  },
  {
   "cell_type": "code",
   "execution_count": 43,
   "metadata": {},
   "outputs": [
    {
     "name": "stdout",
     "output_type": "stream",
     "text": [
      "자전거 : 시속 20킬로미터로 전진\n"
     ]
    }
   ],
   "source": [
    "folding_bicycle.move(20)"
   ]
  },
  {
   "cell_type": "code",
   "execution_count": 6,
   "metadata": {},
   "outputs": [
    {
     "name": "stdout",
     "output_type": "stream",
     "text": [
      "자전거 : 접기, state = folding\n",
      "자전거 : 펴기, sate = unfolding\n"
     ]
    }
   ],
   "source": [
    "folding_bicycle.fold()\n",
    "folding_bicycle.unfold()"
   ]
  }
 ],
 "metadata": {
  "kernelspec": {
   "display_name": "Python 3",
   "language": "python",
   "name": "python3"
  },
  "language_info": {
   "codemirror_mode": {
    "name": "ipython",
    "version": 3
   },
   "file_extension": ".py",
   "mimetype": "text/x-python",
   "name": "python",
   "nbconvert_exporter": "python",
   "pygments_lexer": "ipython3",
   "version": "3.8.5"
  }
 },
 "nbformat": 4,
 "nbformat_minor": 4
}
