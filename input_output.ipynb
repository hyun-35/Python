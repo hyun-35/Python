{
 "cells": [
  {
   "cell_type": "markdown",
   "metadata": {},
   "source": [
    "# 1. 기본 출력"
   ]
  },
  {
   "cell_type": "code",
   "execution_count": 1,
   "metadata": {},
   "outputs": [
    {
     "name": "stdout",
     "output_type": "stream",
     "text": [
      "Welcome to\n",
      "python!\n"
     ]
    }
   ],
   "source": [
    "print('Welcome to')\n",
    "print('python!')"
   ]
  },
  {
   "cell_type": "code",
   "execution_count": 2,
   "metadata": {},
   "outputs": [
    {
     "name": "stdout",
     "output_type": "stream",
     "text": [
      "Welcome to python\n",
      "Welcome topython\n"
     ]
    }
   ],
   "source": [
    "# 문자열 연결시,\n",
    "# , : 빈칸으로 연결\n",
    "# + : 빈칸없이 연결\n",
    "\n",
    "print('Welcome to','python')\n",
    "print('Welcome to'+'python')"
   ]
  },
  {
   "cell_type": "markdown",
   "metadata": {},
   "source": [
    "### (1) \\n \n",
    "- 엔터 역할"
   ]
  },
  {
   "cell_type": "code",
   "execution_count": 3,
   "metadata": {},
   "outputs": [
    {
     "name": "stdout",
     "output_type": "stream",
     "text": [
      "Welcome to \n",
      "python!\n"
     ]
    }
   ],
   "source": [
    "print('Welcome to \\npython!')"
   ]
  },
  {
   "cell_type": "code",
   "execution_count": 4,
   "metadata": {},
   "outputs": [
    {
     "name": "stdout",
     "output_type": "stream",
     "text": [
      "Welcome to \n",
      "\n",
      "python!\n"
     ]
    }
   ],
   "source": [
    "print('Welcome to \\n\\npython!')   #두번쓰면 엔터 두번과 같은효과"
   ]
  },
  {
   "cell_type": "markdown",
   "metadata": {},
   "source": [
    "### (2) sep\n",
    "- 문자열 사이에 구분값 설정\n",
    "- sep인자에 저장한 문자열로 입력한 문자열들이 연결되어 출력\n",
    "- 지정하지않으면 기본적으로 빈칸이 들어감"
   ]
  },
  {
   "cell_type": "code",
   "execution_count": 5,
   "metadata": {},
   "outputs": [
    {
     "name": "stdout",
     "output_type": "stream",
     "text": [
      "Best python book\n",
      "Best-python-book\n"
     ]
    }
   ],
   "source": [
    "print('Best','python','book')\n",
    "print('Best','python','book',sep='-')"
   ]
  },
  {
   "cell_type": "markdown",
   "metadata": {},
   "source": [
    "### (3) end\n",
    "- print문의 연결\n",
    "- end인자를 지정하지 않으면 기본적으로 라인 끝에 \\n이 들어감"
   ]
  },
  {
   "cell_type": "code",
   "execution_count": 6,
   "metadata": {},
   "outputs": [
    {
     "name": "stdout",
     "output_type": "stream",
     "text": [
      "Welcome to python\n"
     ]
    }
   ],
   "source": [
    "print('Welcome to', end= \" \")\n",
    "print('python')"
   ]
  },
  {
   "cell_type": "markdown",
   "metadata": {},
   "source": [
    "# 2. 형식 지정 출력"
   ]
  },
  {
   "cell_type": "markdown",
   "metadata": {},
   "source": [
    "### (1) % 를 이용한 형식 및 위치 지정 \n",
    "- print('%type' % data)\n",
    "    - %type은 data 형식에 따라 지정\n",
    "    ```\n",
    "    data : 문자열 ㅡ> %s\n",
    "           : 정수   ㅡ> %d or %i\n",
    "           : 실수   ㅡ> %f or %F (소수점 6자리까지 출력)\n",
    "```"
   ]
  },
  {
   "cell_type": "code",
   "execution_count": 7,
   "metadata": {},
   "outputs": [
    {
     "name": "stdout",
     "output_type": "stream",
     "text": [
      "광재는 나의 친구입니다.\n"
     ]
    }
   ],
   "source": [
    "name = '광재'\n",
    "\n",
    "print('%s는 나의 친구입니다.' % name)"
   ]
  },
  {
   "cell_type": "code",
   "execution_count": 8,
   "metadata": {},
   "outputs": [
    {
     "name": "stdout",
     "output_type": "stream",
     "text": [
      "반지름 : 3, 원주율 : 3.141593\n"
     ]
    }
   ],
   "source": [
    "# 데이터 여러개 입력\n",
    "\n",
    "r = 3\n",
    "PI = 3.1415926535\n",
    "\n",
    "print('반지름 : %d, 원주율 : %f' % (r,PI))"
   ]
  },
  {
   "cell_type": "markdown",
   "metadata": {},
   "source": [
    "### (2) format() 이용\n",
    "- print('{0}{1}...'.format(data0, data1,...))\n",
    "    - data0 ㅡ> {0}, data1 ㅡ> {1} 에 입력됨\n",
    "    - data의 타입을 지정하지 않아도 됨"
   ]
  },
  {
   "cell_type": "code",
   "execution_count": 9,
   "metadata": {},
   "outputs": [
    {
     "name": "stdout",
     "output_type": "stream",
     "text": [
      "Animal : cat\n"
     ]
    }
   ],
   "source": [
    "animal1 = 'cat'\n",
    "animal2 = 'dog'\n",
    "animal3 = 'fox'\n",
    "\n",
    "print('Animal : {0}'.format(animal1))"
   ]
  },
  {
   "cell_type": "code",
   "execution_count": 10,
   "metadata": {},
   "outputs": [
    {
     "name": "stdout",
     "output_type": "stream",
     "text": [
      "Animal : cat,dog,fox\n"
     ]
    }
   ],
   "source": [
    "print('Animal : {0},{1},{2}'.format(animal1,animal2,animal3))"
   ]
  },
  {
   "cell_type": "code",
   "execution_count": 11,
   "metadata": {},
   "outputs": [
    {
     "name": "stdout",
     "output_type": "stream",
     "text": [
      "Animal : dog,cat\n"
     ]
    }
   ],
   "source": [
    "# 순서 변경\n",
    "\n",
    "print('Animal : {1},{0}'.format(animal1,animal2))  # animal1 ㅡ> 0, animal2 ㅡ> 1"
   ]
  },
  {
   "cell_type": "code",
   "execution_count": 12,
   "metadata": {},
   "outputs": [
    {
     "name": "stdout",
     "output_type": "stream",
     "text": [
      "Animal : dog,fox\n"
     ]
    }
   ],
   "source": [
    "# data에서 지정한 것만 출력도 가능\n",
    "\n",
    "print('Animal : {1},{2}'.format(animal1,animal2,animal3))   # animal2와 animal3만 출력"
   ]
  },
  {
   "cell_type": "code",
   "execution_count": 13,
   "metadata": {},
   "outputs": [
    {
     "name": "stdout",
     "output_type": "stream",
     "text": [
      "Animal : cat,dog,fox\n"
     ]
    }
   ],
   "source": [
    "# 순서지정없이 데이터를 순차적으로 출력하려면 n을 생략해도됨\n",
    "\n",
    "print('Animal : {},{},{}'.format(animal1,animal2,animal3))"
   ]
  },
  {
   "cell_type": "markdown",
   "metadata": {},
   "source": [
    "##### 데이터가 숫자인 경우 {n  출력형식} 형태로 형식 지정 가능\n",
    "```\n",
    "{n:2d}  : 정수를 두자리로 표시(공백 포함)\n",
    "{n:05d} : 정수를 다섯자리로 표시 & 공백은 0으로 채움\n",
    "{n:>5d} : 정수를 다섯자리로 표시 & 오른쪽 정렬\n",
    "{n:<5d} : 정수를 다섯자리로 표시 & 왼쪽 정렬\n",
    "{n:.2f} : 소수점 둘째자리까지 표시\n",
    "{n:,}   : 천단위에 ,표시\n",
    "{n:.1%} : 퍼센트로 표시 & 소수점 첫째자리까지 표시\n",
    "{n:2e}  : 지수로 표시\n",
    "{n:#x}  : 16진수로 표시\n",
    "{n:#o}  : 8진수로 표시\n",
    "{n:#b}  : 2진수로 표시\n",
    "```"
   ]
  },
  {
   "cell_type": "code",
   "execution_count": 14,
   "metadata": {},
   "outputs": [
    {
     "name": "stdout",
     "output_type": "stream",
     "text": [
      "    1\n",
      "00001\n",
      "1    \n",
      "0.35\n",
      "12,345\n",
      "34.6%\n"
     ]
    }
   ],
   "source": [
    "num1 = 1\n",
    "num2 = 0.3456\n",
    "num3 = 12345\n",
    "\n",
    "print('{0:5d}'.format(num1))\n",
    "print('{0:05d}'.format(num1))\n",
    "print('{0:<5d}'.format(num1))\n",
    "print('{:.2f}'.format(num2))\n",
    "print('{:,}'.format(num3))\n",
    "print('{:.1%}'.format(num2))"
   ]
  },
  {
   "cell_type": "markdown",
   "metadata": {},
   "source": [
    "# 3. 키보드 입력\n",
    "- input 함수 이용 : data = input('문자열')"
   ]
  },
  {
   "cell_type": "code",
   "execution_count": 16,
   "metadata": {},
   "outputs": [
    {
     "name": "stdout",
     "output_type": "stream",
     "text": [
      "당신의 이름은 : ㅇㅇㅇ\n",
      "당신은 ㅇㅇㅇ이군요\n",
      "당신은 ㅇㅇㅇ이군요\n"
     ]
    }
   ],
   "source": [
    "yourName = input('당신의 이름은 : ')\n",
    "\n",
    "print('당신은 {}이군요'.format(yourName))\n",
    "print('당신은 %s이군요' % yourName)"
   ]
  },
  {
   "cell_type": "code",
   "execution_count": 17,
   "metadata": {},
   "outputs": [
    {
     "name": "stdout",
     "output_type": "stream",
     "text": [
      "숫자입력2\n"
     ]
    },
    {
     "data": {
      "text/plain": [
       "str"
      ]
     },
     "execution_count": 17,
     "metadata": {},
     "output_type": "execute_result"
    }
   ],
   "source": [
    "# input은 받은 데이터를 str타입으로 입력받음\n",
    "\n",
    "number = input('숫자입력')\n",
    "\n",
    "type(number)"
   ]
  },
  {
   "cell_type": "code",
   "execution_count": 18,
   "metadata": {},
   "outputs": [
    {
     "name": "stdout",
     "output_type": "stream",
     "text": [
      "한 변의 길이는 : 5\n",
      "정사각형의 넓이 : 25\n"
     ]
    }
   ],
   "source": [
    "# 한변의 길이를 입력 받아 넓이 구하기\n",
    "\n",
    "a = int(input('한 변의 길이는 : '))   # 정수변환\n",
    "\n",
    "print('정사각형의 넓이 : {}'.format(a**2))"
   ]
  },
  {
   "cell_type": "code",
   "execution_count": null,
   "metadata": {},
   "outputs": [],
   "source": []
  }
 ],
 "metadata": {
  "kernelspec": {
   "display_name": "Python 3",
   "language": "python",
   "name": "python3"
  },
  "language_info": {
   "codemirror_mode": {
    "name": "ipython",
    "version": 3
   },
   "file_extension": ".py",
   "mimetype": "text/x-python",
   "name": "python",
   "nbconvert_exporter": "python",
   "pygments_lexer": "ipython3",
   "version": "3.8.5"
  }
 },
 "nbformat": 4,
 "nbformat_minor": 4
}
