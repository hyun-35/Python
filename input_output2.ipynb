{
 "cells": [
  {
   "cell_type": "markdown",
   "metadata": {},
   "source": [
    "# 파일 읽고 쓰기\n",
    "- 파일열기 ㅡ> 파일 읽고/쓰기 ㅡ> 파일닫기"
   ]
  },
  {
   "cell_type": "markdown",
   "metadata": {},
   "source": [
    "# 1. 파일 열기\n",
    "- open('filename', 'mode')\n",
    "- mode ( 혼합해서 사용 가능 )\n",
    "    - r : 읽기 모드로 열기(기본)\n",
    "    - w : 쓰기 모드로 열기. 같은 이름의 파일이 있으면 기존 내용은 모두 삭제\n",
    "    - x : 쓰기 모드로 열기. 같은 이름의 파일이 있으면 오류 발생\n",
    "    - a : 추가 모드로 파일 열기.같은 이름의 파일이 없으면 w와 같은 기능\n",
    "    - b : 바이너리 파일 모드로 파일 열기\n",
    "    - t : 텍스트 파일 모드로 파일 열기(기본). 지정하지 않으면 기본적으로 텍스트 모드로 지정됨"
   ]
  },
  {
   "cell_type": "markdown",
   "metadata": {},
   "source": [
    "# 2. 파일 쓰기\n",
    "- 파일을 쓰기 모드로 열어야함\n",
    "```\n",
    "    f = open('filename', 'w')\n",
    "    f.write(str)\n",
    "    f.close()\n",
    "```\n",
    "- with문으로 여는 경우\n",
    "```\n",
    "    with open('filename','w') as f:\n",
    "        f.write(str)\n",
    "```"
   ]
  },
  {
   "cell_type": "code",
   "execution_count": 3,
   "metadata": {},
   "outputs": [],
   "source": [
    "# myFirst.txt를 생성해서 This is my first file.입력\n",
    "\n",
    "f = open('myFile.txt','w')\n",
    "f.write('This is my first file.')\n",
    "f.close()"
   ]
  },
  {
   "cell_type": "code",
   "execution_count": 4,
   "metadata": {},
   "outputs": [
    {
     "name": "stdout",
     "output_type": "stream",
     "text": [
      "This is my first file.\n"
     ]
    }
   ],
   "source": [
    "# 파일 확인\n",
    "# cat : 파일이 있으면 내용을 화면에 출력\n",
    "\n",
    "!cat myFile.txt"
   ]
  },
  {
   "cell_type": "code",
   "execution_count": 5,
   "metadata": {},
   "outputs": [],
   "source": [
    "# for문을 이용해 파일에 문자열 한줄씩 작성\n",
    "# 구구단 2단 작성\n",
    "\n",
    "f = open('two_times_table.txt','w')\n",
    "for i in range(1,10):\n",
    "    f.write('2 * {} = {}\\n'.format(i,2*i))\n",
    "f.close()"
   ]
  },
  {
   "cell_type": "code",
   "execution_count": 6,
   "metadata": {},
   "outputs": [
    {
     "name": "stdout",
     "output_type": "stream",
     "text": [
      "2 * 1 = 2\n",
      "2 * 2 = 4\n",
      "2 * 3 = 6\n",
      "2 * 4 = 8\n",
      "2 * 5 = 10\n",
      "2 * 6 = 12\n",
      "2 * 7 = 14\n",
      "2 * 8 = 16\n",
      "2 * 9 = 18\n"
     ]
    }
   ],
   "source": [
    "!cat two_times_table.txt"
   ]
  },
  {
   "cell_type": "code",
   "execution_count": 8,
   "metadata": {},
   "outputs": [],
   "source": [
    "# with문 사용하여 파일쓰기\n",
    "\n",
    "with open('myTextFile2.txt','w') as f:\n",
    "    f.write('File read/write test2: line1\\n')\n",
    "    f.write('File read/write test2: line2\\n')"
   ]
  },
  {
   "cell_type": "code",
   "execution_count": 9,
   "metadata": {},
   "outputs": [
    {
     "name": "stdout",
     "output_type": "stream",
     "text": [
      "File read/write test2: line1\n",
      "File read/write test2: line2\n"
     ]
    }
   ],
   "source": [
    "!cat myTextFile2.txt"
   ]
  },
  {
   "cell_type": "markdown",
   "metadata": {},
   "source": [
    "# 3. 파일 읽기\n",
    "- 파일을 읽기 모드로 열어야함\n",
    "```\n",
    "f = open('filename','r')\n",
    "data = f.read()      # 읽은 내용을 모두 data라는 변수에 할당\n",
    "f.close()\n",
    "```\n",
    "- with문 작성시\n",
    "```\n",
    "with open('filename','r') as f:\n",
    "    data = f.read()\n",
    "    \n",
    "- readline() : 파일을 한줄씩 읽어옴\n",
    "    - readline()은 맨 끝 줄을 읽고 난 후 실행하면 빈 문자열을 반환\n",
    "- readlines() : 파일의 모든 줄을 어서 한 줄씩을 요소로 갖는 리스트 타입으로 반환"
   ]
  },
  {
   "cell_type": "code",
   "execution_count": 10,
   "metadata": {},
   "outputs": [],
   "source": [
    "f = open('myFile.txt','r')\n",
    "file_text = f.read()\n",
    "f.close()"
   ]
  },
  {
   "cell_type": "code",
   "execution_count": 11,
   "metadata": {},
   "outputs": [
    {
     "data": {
      "text/plain": [
       "'This is my first file.'"
      ]
     },
     "execution_count": 11,
     "metadata": {},
     "output_type": "execute_result"
    }
   ],
   "source": [
    "file_text"
   ]
  },
  {
   "cell_type": "code",
   "execution_count": 14,
   "metadata": {},
   "outputs": [
    {
     "name": "stdout",
     "output_type": "stream",
     "text": [
      "2 * 1 = 2\n",
      "2 * 2 = 4\n",
      "\n"
     ]
    }
   ],
   "source": [
    "# readline 사용\n",
    "# 위에서 만든 구구단 2단을 한줄씩 읽어오기\n",
    "\n",
    "f = open('two_times_table.txt','r')\n",
    "\n",
    "line1 = f.readline()\n",
    "line2 = f.readline()\n",
    "f.close()\n",
    "\n",
    "print(line1, end=\"\")\n",
    "print(line2)"
   ]
  },
  {
   "cell_type": "code",
   "execution_count": 16,
   "metadata": {},
   "outputs": [
    {
     "name": "stdout",
     "output_type": "stream",
     "text": [
      "2 * 1 = 2\n",
      "2 * 2 = 4\n",
      "2 * 3 = 6\n",
      "2 * 4 = 8\n",
      "2 * 5 = 10\n",
      "2 * 6 = 12\n",
      "2 * 7 = 14\n",
      "2 * 8 = 16\n",
      "2 * 9 = 18\n"
     ]
    }
   ],
   "source": [
    "# while문을 이용하여 모두 읽어오기\n",
    "\n",
    "f = open('two_times_table.txt','r')\n",
    "line = f.readline()\n",
    "\n",
    "while line:\n",
    "    print(line,end=\"\")\n",
    "    line = f.readline()\n",
    "    \n",
    "f.close()"
   ]
  },
  {
   "cell_type": "code",
   "execution_count": 15,
   "metadata": {},
   "outputs": [
    {
     "name": "stdout",
     "output_type": "stream",
     "text": [
      "['2 * 1 = 2\\n', '2 * 2 = 4\\n', '2 * 3 = 6\\n', '2 * 4 = 8\\n', '2 * 5 = 10\\n', '2 * 6 = 12\\n', '2 * 7 = 14\\n', '2 * 8 = 16\\n', '2 * 9 = 18\\n']\n"
     ]
    }
   ],
   "source": [
    "# readlines 사용\n",
    "# 모두 읽어오기\n",
    "\n",
    "f = open('two_times_table.txt','r')\n",
    "lines = f.readlines()\n",
    "f.close()\n",
    "\n",
    "print(lines)"
   ]
  },
  {
   "cell_type": "code",
   "execution_count": 18,
   "metadata": {},
   "outputs": [
    {
     "name": "stdout",
     "output_type": "stream",
     "text": [
      "2 * 1 = 2\n",
      "2 * 2 = 4\n",
      "2 * 3 = 6\n",
      "2 * 4 = 8\n",
      "2 * 5 = 10\n",
      "2 * 6 = 12\n",
      "2 * 7 = 14\n",
      "2 * 8 = 16\n",
      "2 * 9 = 18\n"
     ]
    }
   ],
   "source": [
    "f = open('two_times_table.txt','r')\n",
    "lines = f.readlines()\n",
    "\n",
    "for line in lines:\n",
    "    print(line,end=\"\")\n",
    "    \n",
    "f.close()"
   ]
  },
  {
   "cell_type": "code",
   "execution_count": 19,
   "metadata": {},
   "outputs": [
    {
     "name": "stdout",
     "output_type": "stream",
     "text": [
      "2 * 1 = 2\n",
      "2 * 2 = 4\n",
      "2 * 3 = 6\n",
      "2 * 4 = 8\n",
      "2 * 5 = 10\n",
      "2 * 6 = 12\n",
      "2 * 7 = 14\n",
      "2 * 8 = 16\n",
      "2 * 9 = 18\n"
     ]
    }
   ],
   "source": [
    "# for문의 반복범위에 f만 써도 f.readlines()와 똑같이 인식\n",
    "\n",
    "f = open('two_times_table.txt','r')\n",
    "\n",
    "for line in f:\n",
    "    print(line,end='')\n",
    "\n",
    "f.close()"
   ]
  },
  {
   "cell_type": "code",
   "execution_count": 13,
   "metadata": {},
   "outputs": [
    {
     "name": "stdout",
     "output_type": "stream",
     "text": [
      "File read/write test2: line1\n",
      "File read/write test2: line2\n",
      "\n"
     ]
    }
   ],
   "source": [
    "# with문 사용\n",
    "\n",
    "with open('myTextFile2.txt','r') as f:\n",
    "    file_string = f.read()\n",
    "\n",
    "print(file_string)"
   ]
  },
  {
   "cell_type": "markdown",
   "metadata": {},
   "source": [
    "### 실습"
   ]
  },
  {
   "cell_type": "markdown",
   "metadata": {},
   "source": [
    "- with문으로 구구단 3단 만들고 읽어오기"
   ]
  },
  {
   "cell_type": "code",
   "execution_count": 21,
   "metadata": {},
   "outputs": [],
   "source": [
    "with open('3단.txt','w') as f:\n",
    "    for i in range(1,10):\n",
    "        f.write('3 * {} = {}\\n'.format(i,3*i))"
   ]
  },
  {
   "cell_type": "code",
   "execution_count": 22,
   "metadata": {},
   "outputs": [
    {
     "name": "stdout",
     "output_type": "stream",
     "text": [
      "3 * 1 = 3\n",
      "3 * 2 = 6\n",
      "3 * 3 = 9\n",
      "3 * 4 = 12\n",
      "3 * 5 = 15\n",
      "3 * 6 = 18\n",
      "3 * 7 = 21\n",
      "3 * 8 = 24\n",
      "3 * 9 = 27\n"
     ]
    }
   ],
   "source": [
    "with open('3단.txt','r') as f:\n",
    "    for line in f:\n",
    "        print(line,end='')"
   ]
  },
  {
   "cell_type": "markdown",
   "metadata": {},
   "source": [
    "- 구구단 9단까지 작성"
   ]
  },
  {
   "cell_type": "code",
   "execution_count": 25,
   "metadata": {},
   "outputs": [],
   "source": [
    "f = open('구구단.txt','w')\n",
    "\n",
    "for i in range(2,10):\n",
    "    for j in range(1,10):\n",
    "        f.write('{} * {} = {}\\n'.format(i,j,i*j))\n",
    "    f.write('------------------------\\n')\n",
    "                \n",
    "f.close()"
   ]
  },
  {
   "cell_type": "code",
   "execution_count": 29,
   "metadata": {},
   "outputs": [
    {
     "name": "stdout",
     "output_type": "stream",
     "text": [
      "2 * 1 = 2\n",
      "2 * 2 = 4\n",
      "2 * 3 = 6\n",
      "2 * 4 = 8\n",
      "2 * 5 = 10\n",
      "2 * 6 = 12\n",
      "2 * 7 = 14\n",
      "2 * 8 = 16\n",
      "2 * 9 = 18\n",
      "------------------------\n",
      "3 * 1 = 3\n",
      "3 * 2 = 6\n",
      "3 * 3 = 9\n",
      "3 * 4 = 12\n",
      "3 * 5 = 15\n",
      "3 * 6 = 18\n",
      "3 * 7 = 21\n",
      "3 * 8 = 24\n",
      "3 * 9 = 27\n",
      "------------------------\n"
     ]
    }
   ],
   "source": [
    "# 위에서 2단부터 3단까지만 읽어오기\n",
    "\n",
    "f = open('구구단.txt','r')\n",
    "\n",
    "count = 1\n",
    "line = f.readline()\n",
    "\n",
    "while count < 21:\n",
    "    print(line,end='')\n",
    "    count += 1\n",
    "    line = f.readline()\n",
    "    \n",
    "f.close()"
   ]
  },
  {
   "cell_type": "code",
   "execution_count": null,
   "metadata": {},
   "outputs": [],
   "source": []
  }
 ],
 "metadata": {
  "kernelspec": {
   "display_name": "Python 3",
   "language": "python",
   "name": "python3"
  },
  "language_info": {
   "codemirror_mode": {
    "name": "ipython",
    "version": 3
   },
   "file_extension": ".py",
   "mimetype": "text/x-python",
   "name": "python",
   "nbconvert_exporter": "python",
   "pygments_lexer": "ipython3",
   "version": "3.8.5"
  }
 },
 "nbformat": 4,
 "nbformat_minor": 4
}
