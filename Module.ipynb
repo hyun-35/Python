{
 "cells": [
  {
   "cell_type": "markdown",
   "metadata": {},
   "source": [
    "# 1. 모듈 생성\n",
    "- 모듈 : 코드가 저장된 파일\n",
    "- 생성 : ```%%writefile 모듈명.py```"
   ]
  },
  {
   "cell_type": "code",
   "execution_count": 1,
   "metadata": {},
   "outputs": [
    {
     "name": "stdout",
     "output_type": "stream",
     "text": [
      "Overwriting my_first_module.py\n"
     ]
    }
   ],
   "source": [
    "%%writefile my_first_module.py\n",
    "# File name : my_first_module.py\n",
    "\n",
    "def my_function():\n",
    "    print('This is a my first module.')"
   ]
  },
  {
   "cell_type": "code",
   "execution_count": 2,
   "metadata": {},
   "outputs": [
    {
     "name": "stdout",
     "output_type": "stream",
     "text": [
      "# File name : my_first_module.py\n",
      "\n",
      "def my_function():\n",
      "    print('This is a my first module.')\n"
     ]
    }
   ],
   "source": [
    "# 모듈 확인\n",
    "!cat my_first_module.py"
   ]
  },
  {
   "cell_type": "markdown",
   "metadata": {},
   "source": [
    "# 2. 모듈 호출\n",
    "- ```import 모듈명``` ㅡ> 호출\n",
    "- ```dir(모듈명)``` ㅡ> 모듈에 있는 함수, 변수, 클래스를 알고 싶을 때"
   ]
  },
  {
   "cell_type": "code",
   "execution_count": 3,
   "metadata": {},
   "outputs": [
    {
     "data": {
      "text/plain": [
       "['__builtins__',\n",
       " '__cached__',\n",
       " '__doc__',\n",
       " '__file__',\n",
       " '__loader__',\n",
       " '__name__',\n",
       " '__package__',\n",
       " '__spec__',\n",
       " 'my_function']"
      ]
     },
     "execution_count": 3,
     "metadata": {},
     "output_type": "execute_result"
    }
   ],
   "source": [
    "import my_first_module\n",
    "\n",
    "dir(my_first_module)"
   ]
  },
  {
   "cell_type": "code",
   "execution_count": 4,
   "metadata": {},
   "outputs": [
    {
     "name": "stdout",
     "output_type": "stream",
     "text": [
      "This is a my first module.\n"
     ]
    }
   ],
   "source": [
    "my_first_module.my_function()"
   ]
  },
  {
   "cell_type": "code",
   "execution_count": 5,
   "metadata": {},
   "outputs": [],
   "source": [
    "# my_area 모듈 생성\n",
    "# 정사각형의 한 변의 길이를 받아 정사각형의 넓이를 반환하는 함수와\n",
    "# 원의 반지름의 길이를 받아 원의 넓이를 반환하는 함수를 갖는 모듈"
   ]
  },
  {
   "cell_type": "code",
   "execution_count": 6,
   "metadata": {},
   "outputs": [
    {
     "name": "stdout",
     "output_type": "stream",
     "text": [
      "Overwriting my_area.py\n"
     ]
    }
   ],
   "source": [
    "%%writefile my_area.py\n",
    "# File name : my_area.py\n",
    "\n",
    "PI = 3.14\n",
    "\n",
    "def square_area(a):\n",
    "    return a**2\n",
    "\n",
    "def circile_area(r):\n",
    "    return (r**2)*PI"
   ]
  },
  {
   "cell_type": "code",
   "execution_count": 7,
   "metadata": {},
   "outputs": [
    {
     "name": "stdout",
     "output_type": "stream",
     "text": [
      "정사각형의 넓이 :  25\n",
      "원의 넓이 :  12.56\n"
     ]
    }
   ],
   "source": [
    "# 모듈 호출\n",
    "# 정사각형의 길이가 5일 도형의 넓이와\n",
    "# 원의 반지금의 길이가 2인 원의 넓이 구하기\n",
    "\n",
    "import my_area\n",
    "\n",
    "print('정사각형의 넓이 : ', my_area.square_area(5))\n",
    "print('원의 넓이 : ', my_area.circile_area(2))"
   ]
  },
  {
   "cell_type": "markdown",
   "metadata": {},
   "source": [
    "# 3. 모듈을 불러오는 다른 형식\n",
    "- ```from 모듈명 import 변수명, 함수명, 클래스```\n",
    "    - ```from 모듈명 import *``` : 모든 변수, 함수, 클래스를 불러옴\n",
    "- 별명 붙이기\n",
    "    - 모듈 : ```import 모듈 as 별명```\n",
    "    - 변수, 함수, 클래스 : ```from 모듈 import 변수or함수or클래스명 as 별명```"
   ]
  },
  {
   "cell_type": "code",
   "execution_count": 8,
   "metadata": {},
   "outputs": [
    {
     "data": {
      "text/plain": [
       "3.14"
      ]
     },
     "execution_count": 8,
     "metadata": {},
     "output_type": "execute_result"
    }
   ],
   "source": [
    "# my_area.py에서 변수 PI만 불러오기\n",
    "\n",
    "from my_area import PI\n",
    "\n",
    "PI"
   ]
  },
  {
   "cell_type": "code",
   "execution_count": 9,
   "metadata": {},
   "outputs": [
    {
     "data": {
      "text/plain": [
       "25"
      ]
     },
     "execution_count": 9,
     "metadata": {},
     "output_type": "execute_result"
    }
   ],
   "source": [
    "# my_area.py에서 square_area 함수 불러오기\n",
    "\n",
    "from my_area import square_area\n",
    "\n",
    "square_area(5)"
   ]
  },
  {
   "cell_type": "code",
   "execution_count": 10,
   "metadata": {},
   "outputs": [
    {
     "name": "stdout",
     "output_type": "stream",
     "text": [
      "3.14\n",
      "정사각형의 넓이 :  25\n",
      "원의 넓이 :  12.56\n"
     ]
    }
   ],
   "source": [
    "# * 로 모두 가져오기\n",
    "\n",
    "from my_area import *\n",
    "\n",
    "print(PI)\n",
    "print('정사각형의 넓이 : ',square_area(5))\n",
    "print('원의 넓이 : ',circile_area(2))"
   ]
  },
  {
   "cell_type": "code",
   "execution_count": 11,
   "metadata": {},
   "outputs": [],
   "source": [
    "# from ~ import ~ 로 불러올때는 변수, 함수, 클래스 앞에 모듈명을 안 붙어도 되서 편리하지만\n",
    "# 동일한 이름의 함수가 있는 모듈 여러개를 가져올때는 주의해야함\n",
    "# 함수 이름이 중복되는 경우 나중에 호출한 모듈에서의 함수가 적용됨"
   ]
  },
  {
   "cell_type": "code",
   "execution_count": 12,
   "metadata": {},
   "outputs": [
    {
     "name": "stdout",
     "output_type": "stream",
     "text": [
      "Overwriting my_module1.py\n"
     ]
    }
   ],
   "source": [
    "%%writefile my_module1.py\n",
    "# File name : my_module1\n",
    "\n",
    "def func1():\n",
    "    print('func1 in my_module1')\n",
    "\n",
    "def func2():\n",
    "    print('func2 in my_module1')"
   ]
  },
  {
   "cell_type": "code",
   "execution_count": 13,
   "metadata": {},
   "outputs": [
    {
     "name": "stdout",
     "output_type": "stream",
     "text": [
      "Overwriting my_module2.py\n"
     ]
    }
   ],
   "source": [
    "%%writefile my_module2.py\n",
    "\n",
    "# File name : my_module2.py\n",
    "\n",
    "def func2():\n",
    "    print('func2 in my_module2')\n",
    "\n",
    "def func3():\n",
    "    print('func3 in my_module2')"
   ]
  },
  {
   "cell_type": "code",
   "execution_count": 14,
   "metadata": {},
   "outputs": [
    {
     "name": "stdout",
     "output_type": "stream",
     "text": [
      "func1 in my_module1\n",
      "func2 in my_module2\n",
      "func3 in my_module2\n"
     ]
    }
   ],
   "source": [
    "from my_module1 import *\n",
    "from my_module2 import *\n",
    "\n",
    "func1()\n",
    "func2()\n",
    "func3()"
   ]
  },
  {
   "cell_type": "code",
   "execution_count": 15,
   "metadata": {},
   "outputs": [
    {
     "name": "stdout",
     "output_type": "stream",
     "text": [
      "func1 in my_module1\n",
      "func2 in my_module1\n",
      "func3 in my_module2\n"
     ]
    }
   ],
   "source": [
    "from my_module2 import *\n",
    "from my_module1 import *\n",
    "\n",
    "func1()\n",
    "func2()\n",
    "func3()"
   ]
  },
  {
   "cell_type": "code",
   "execution_count": 16,
   "metadata": {},
   "outputs": [
    {
     "name": "stdout",
     "output_type": "stream",
     "text": [
      "3.14\n",
      "정사각형의 넓이 :  25\n",
      "원의 넓이 :  12.56\n"
     ]
    }
   ],
   "source": [
    "# 별명 붙이기\n",
    "\n",
    "import my_area as area\n",
    "\n",
    "print(area.PI)\n",
    "print('정사각형의 넓이 : ', area.square_area(5))\n",
    "print('원의 넓이 : ', area.circile_area(2))"
   ]
  },
  {
   "cell_type": "code",
   "execution_count": 17,
   "metadata": {},
   "outputs": [
    {
     "name": "stdout",
     "output_type": "stream",
     "text": [
      "3.14\n",
      "정사각형의 넓이 :  25\n"
     ]
    }
   ],
   "source": [
    "from my_area import PI as pi\n",
    "from my_area import square_area as sq\n",
    "\n",
    "print(pi)\n",
    "print('정사각형의 넓이 : ', sq(5))"
   ]
  },
  {
   "cell_type": "markdown",
   "metadata": {},
   "source": [
    "# 4. 모듈의 실행방법\n",
    "- 함수나 클래스가 잘 작성됐는지 확인을 위해 모듈 내에서 함수나 클래스를 직접 호출하기도 함\n",
    "- 따라서 테스트하기 위해 직접 수행하는 경우와 임포트해서 수행하는 경우를 구분함\n",
    "    - 직접 수행 : ```__name__ = '__main__'```"
   ]
  },
  {
   "cell_type": "code",
   "execution_count": 18,
   "metadata": {},
   "outputs": [
    {
     "name": "stdout",
     "output_type": "stream",
     "text": [
      "Overwriting my_module_test1.py\n"
     ]
    }
   ],
   "source": [
    "%%writefile my_module_test1.py\n",
    "# File name : my_module_test1\n",
    "\n",
    "def func(a):\n",
    "    print('입력 숫자 : ',  a)\n",
    "    \n",
    "func(3)"
   ]
  },
  {
   "cell_type": "code",
   "execution_count": 19,
   "metadata": {},
   "outputs": [
    {
     "name": "stdout",
     "output_type": "stream",
     "text": [
      "입력 숫자 :  3\n"
     ]
    }
   ],
   "source": [
    "# 직접 실행\n",
    "\n",
    "%run my_module_test1.py"
   ]
  },
  {
   "cell_type": "code",
   "execution_count": 20,
   "metadata": {},
   "outputs": [
    {
     "name": "stdout",
     "output_type": "stream",
     "text": [
      "입력 숫자 :  1\n"
     ]
    }
   ],
   "source": [
    "func(1)"
   ]
  },
  {
   "cell_type": "code",
   "execution_count": 21,
   "metadata": {},
   "outputs": [
    {
     "name": "stdout",
     "output_type": "stream",
     "text": [
      "입력 숫자 :  3\n",
      "입력 숫자 :  5\n"
     ]
    }
   ],
   "source": [
    "import my_module_test1\n",
    "\n",
    "func(5)"
   ]
  },
  {
   "cell_type": "code",
   "execution_count": 22,
   "metadata": {},
   "outputs": [
    {
     "name": "stdout",
     "output_type": "stream",
     "text": [
      "Overwriting my_module_test2.py\n"
     ]
    }
   ],
   "source": [
    "%%writefile my_module_test2.py\n",
    "\n",
    "def func(a):\n",
    "    print('입력 숫자 : ',a)\n",
    "    \n",
    "if __name__ == '__main__':       #직접 수행하는 경우에만 실행되는 코드\n",
    "    print('모듈을 직접 실행')\n",
    "    func(3)\n",
    "    func(4)"
   ]
  },
  {
   "cell_type": "code",
   "execution_count": 23,
   "metadata": {},
   "outputs": [
    {
     "name": "stdout",
     "output_type": "stream",
     "text": [
      "모듈을 직접 실행\n",
      "입력 숫자 :  3\n",
      "입력 숫자 :  4\n"
     ]
    }
   ],
   "source": [
    "# 직접 실행\n",
    "\n",
    "%run my_module_test2.py"
   ]
  },
  {
   "cell_type": "code",
   "execution_count": 24,
   "metadata": {},
   "outputs": [],
   "source": [
    "# import해서 실행\n",
    "\n",
    "import my_module_test2"
   ]
  },
  {
   "cell_type": "code",
   "execution_count": 25,
   "metadata": {},
   "outputs": [
    {
     "name": "stdout",
     "output_type": "stream",
     "text": [
      "입력 숫자 :  7\n"
     ]
    }
   ],
   "source": [
    "func(7)"
   ]
  },
  {
   "cell_type": "code",
   "execution_count": 26,
   "metadata": {},
   "outputs": [],
   "source": [
    "# 두 경우를 구분하고자 할때 사용되는 코드 : if ~ else ~"
   ]
  },
  {
   "cell_type": "code",
   "execution_count": 27,
   "metadata": {},
   "outputs": [
    {
     "name": "stdout",
     "output_type": "stream",
     "text": [
      "Overwriting my_module_test3.py\n"
     ]
    }
   ],
   "source": [
    "%%writefile my_module_test3.py\n",
    "\n",
    "def func(a):\n",
    "    print('입력 숫자 : ',a)\n",
    "    \n",
    "if __name__ == '__main__' :\n",
    "    print('모듈을 직정 실행')\n",
    "    func(3)\n",
    "    func(4)\n",
    "else:\n",
    "    print('모듈을 임포트해서 실행')"
   ]
  },
  {
   "cell_type": "code",
   "execution_count": 28,
   "metadata": {},
   "outputs": [
    {
     "name": "stdout",
     "output_type": "stream",
     "text": [
      "모듈을 직정 실행\n",
      "입력 숫자 :  3\n",
      "입력 숫자 :  4\n"
     ]
    }
   ],
   "source": [
    "%run my_module_test3.py"
   ]
  },
  {
   "cell_type": "code",
   "execution_count": 29,
   "metadata": {},
   "outputs": [
    {
     "name": "stdout",
     "output_type": "stream",
     "text": [
      "모듈을 임포트해서 실행\n"
     ]
    }
   ],
   "source": [
    "import my_module_test3"
   ]
  },
  {
   "cell_type": "markdown",
   "metadata": {},
   "source": [
    "# 5. 내장모듈\n",
    "- ```random``` : 임의로 숫자를 발생시킴\n",
    "- ```datetime``` : 날짜 및 시간 관련 처리\n",
    "- ```calendar``` : 연도/월/주 등 달력과 관련"
   ]
  },
  {
   "cell_type": "markdown",
   "metadata": {},
   "source": [
    "### (1) random\n",
    "- 함수\n",
    "    - `random()` : 0~1 사이의 실수 반환\n",
    "    - `randint(a,b)` : a~b 사이의 정수 반환\n",
    "    - `randrange(a,b,step)` : range(a,b,step)으로 나오는 수에서 임의의 정수를 반환\n",
    "    - `choice(seq)` : 공백이 아닌 시퀀스(list,tuple)에서 임의의 항목을 반환\n",
    "    - `sample(population, k)` : 시퀀스로 이루어진 모집단(population)에서 중복되지 않는 k개의 인자 반환"
   ]
  },
  {
   "cell_type": "code",
   "execution_count": 30,
   "metadata": {},
   "outputs": [],
   "source": [
    "import random"
   ]
  },
  {
   "cell_type": "markdown",
   "metadata": {},
   "source": [
    "##### random()"
   ]
  },
  {
   "cell_type": "code",
   "execution_count": 31,
   "metadata": {},
   "outputs": [
    {
     "data": {
      "text/plain": [
       "0.13794872642505485"
      ]
     },
     "execution_count": 31,
     "metadata": {},
     "output_type": "execute_result"
    }
   ],
   "source": [
    "random.random()"
   ]
  },
  {
   "cell_type": "markdown",
   "metadata": {},
   "source": [
    "##### randint(a, b)"
   ]
  },
  {
   "cell_type": "code",
   "execution_count": 32,
   "metadata": {},
   "outputs": [
    {
     "name": "stdout",
     "output_type": "stream",
     "text": [
      "주사위의 숫자 : 3,6\n"
     ]
    }
   ],
   "source": [
    "# 주사위 2개를 던져서 숫자를 임의로 나오게\n",
    "\n",
    "dice1 = random.randint(1,6)\n",
    "dice2 = random.randint(1,6)\n",
    "\n",
    "print('주사위의 숫자 : {},{}'.format(dice1, dice2))"
   ]
  },
  {
   "cell_type": "markdown",
   "metadata": {},
   "source": [
    "##### randrange(a, b, step)"
   ]
  },
  {
   "cell_type": "code",
   "execution_count": 33,
   "metadata": {},
   "outputs": [
    {
     "name": "stdout",
     "output_type": "stream",
     "text": [
      "[0, 2, 4, 6, 8, 10]\n",
      "짝수 뽑기 :  6\n"
     ]
    }
   ],
   "source": [
    "# 0~11 사이에서 임의의 짝수 발생\n",
    "\n",
    "print(list(range(0,12,2)))\n",
    "print('짝수 뽑기 : ', random.randrange(0,12,2))"
   ]
  },
  {
   "cell_type": "code",
   "execution_count": 34,
   "metadata": {},
   "outputs": [
    {
     "name": "stdout",
     "output_type": "stream",
     "text": [
      "[1, 3, 5, 7, 9, 11]\n",
      "홀수 뽑기 :  5\n"
     ]
    }
   ],
   "source": [
    "# 0~11 사이에서 임의이 홀수 발생\n",
    "\n",
    "print(list(range(1,12,2)))\n",
    "print('홀수 뽑기 : ', random.randrange(1,12,2))"
   ]
  },
  {
   "cell_type": "markdown",
   "metadata": {},
   "source": [
    "##### choice()"
   ]
  },
  {
   "cell_type": "code",
   "execution_count": 35,
   "metadata": {},
   "outputs": [
    {
     "data": {
      "text/plain": [
       "'불고기'"
      ]
     },
     "execution_count": 35,
     "metadata": {},
     "output_type": "execute_result"
    }
   ],
   "source": [
    "# 메뉴리스트에서 하나의 메뉴 고르기\n",
    "\n",
    "menu = ['비빕밥', '된장찌개', ' 볶음밥', '불고기']\n",
    "random.choice(menu)"
   ]
  },
  {
   "cell_type": "markdown",
   "metadata": {},
   "source": [
    "##### sample(population, k)"
   ]
  },
  {
   "cell_type": "code",
   "execution_count": 36,
   "metadata": {},
   "outputs": [
    {
     "data": {
      "text/plain": [
       "[7, 0, 11, 9, 14]"
      ]
     },
     "execution_count": 36,
     "metadata": {},
     "output_type": "execute_result"
    }
   ],
   "source": [
    "pop = range(0,15)\n",
    "\n",
    "random.sample(pop,5)"
   ]
  },
  {
   "cell_type": "markdown",
   "metadata": {},
   "source": [
    "### (2) datetime\n",
    "- 함수\n",
    "    - `date(year, month, day)`\n",
    "        - `today()` : 오늘\n",
    "    - `time(hour, minute, second)`\n",
    "    - `datetime(year, month, day, hour, minute, second)`\n",
    "        - `now()` : 현재 날짜, 시간"
   ]
  },
  {
   "cell_type": "code",
   "execution_count": 37,
   "metadata": {},
   "outputs": [],
   "source": [
    "import datetime"
   ]
  },
  {
   "cell_type": "markdown",
   "metadata": {},
   "source": [
    "##### date(year, month, day)"
   ]
  },
  {
   "cell_type": "code",
   "execution_count": 38,
   "metadata": {},
   "outputs": [
    {
     "name": "stdout",
     "output_type": "stream",
     "text": [
      "2021-08-16\n"
     ]
    }
   ],
   "source": [
    "set_day = datetime.date(2021,8,16)\n",
    "print(set_day)"
   ]
  },
  {
   "cell_type": "code",
   "execution_count": 39,
   "metadata": {},
   "outputs": [
    {
     "name": "stdout",
     "output_type": "stream",
     "text": [
      "2021/8/16\n"
     ]
    }
   ],
   "source": [
    "# 년, 월, 일을 뽑아서 쓸 수도 있다.\n",
    "\n",
    "print('{}/{}/{}'.format(set_day.year, set_day.month, set_day.day))"
   ]
  },
  {
   "cell_type": "code",
   "execution_count": 40,
   "metadata": {},
   "outputs": [
    {
     "name": "stdout",
     "output_type": "stream",
     "text": [
      "100 days, 0:00:00\n"
     ]
    }
   ],
   "source": [
    "# 2021/4/1와 2021/7/10의 차이 구하기\n",
    "\n",
    "day1 = datetime.date(2021,4,1)\n",
    "day2 = datetime.date(2021,7,10)\n",
    "\n",
    "print(day2-day1)"
   ]
  },
  {
   "cell_type": "code",
   "execution_count": 41,
   "metadata": {},
   "outputs": [
    {
     "name": "stdout",
     "output_type": "stream",
     "text": [
      "2021/4/1와 2021/7/10의 날짜 차이 :  100\n"
     ]
    }
   ],
   "source": [
    "# 차이에서 날짜만 쓰려면 : days\n",
    "\n",
    "print('2021/4/1와 2021/7/10의 날짜 차이 : ', (day2-day1).days)"
   ]
  },
  {
   "cell_type": "code",
   "execution_count": 42,
   "metadata": {},
   "outputs": [
    {
     "name": "stdout",
     "output_type": "stream",
     "text": [
      "2021-08-17\n"
     ]
    }
   ],
   "source": [
    "# 오늘 날짜\n",
    "\n",
    "print(datetime.date.today())"
   ]
  },
  {
   "cell_type": "code",
   "execution_count": 43,
   "metadata": {},
   "outputs": [
    {
     "name": "stdout",
     "output_type": "stream",
     "text": [
      "130\n"
     ]
    }
   ],
   "source": [
    "# 오늘로부터 특정날짜까지 남은 일자\n",
    "\n",
    "special_day = datetime.date(2021,12,25)\n",
    "today = datetime.date.today()\n",
    "diff = special_day - today\n",
    "\n",
    "print(diff.days)"
   ]
  },
  {
   "cell_type": "markdown",
   "metadata": {},
   "source": [
    "##### time(hour, minute, second)"
   ]
  },
  {
   "cell_type": "code",
   "execution_count": 44,
   "metadata": {},
   "outputs": [
    {
     "name": "stdout",
     "output_type": "stream",
     "text": [
      "15:30:45\n"
     ]
    }
   ],
   "source": [
    "set_time = datetime.time(15,30,45)\n",
    "print(set_time)"
   ]
  },
  {
   "cell_type": "code",
   "execution_count": 45,
   "metadata": {},
   "outputs": [
    {
     "name": "stdout",
     "output_type": "stream",
     "text": [
      "15시 30분 45초\n"
     ]
    }
   ],
   "source": [
    "# 시, 분, 초 꺼내쓰기\n",
    "\n",
    "print('{}시 {}분 {}초'.format(set_time.hour, set_time.minute, set_time.second))"
   ]
  },
  {
   "cell_type": "markdown",
   "metadata": {},
   "source": [
    "##### datetime(year, month, day, hour, minute, second)"
   ]
  },
  {
   "cell_type": "code",
   "execution_count": 46,
   "metadata": {},
   "outputs": [
    {
     "name": "stdout",
     "output_type": "stream",
     "text": [
      "2021-08-03 10:20:00\n"
     ]
    }
   ],
   "source": [
    "set_dt = datetime.datetime(2021,8,3,10,20,0)\n",
    "print(set_dt)"
   ]
  },
  {
   "cell_type": "code",
   "execution_count": 47,
   "metadata": {},
   "outputs": [
    {
     "name": "stdout",
     "output_type": "stream",
     "text": [
      "날짜 2021/8/3\n",
      "시간 10:20:0\n"
     ]
    }
   ],
   "source": [
    "print('날짜 {}/{}/{}'.format(set_dt.year, set_dt.month, set_dt.day))\n",
    "print('시간 {}:{}:{}'.format(set_dt.hour, set_dt.minute, set_dt.second))"
   ]
  },
  {
   "cell_type": "code",
   "execution_count": 48,
   "metadata": {},
   "outputs": [
    {
     "name": "stdout",
     "output_type": "stream",
     "text": [
      "2021-08-17 01:24:03.432651\n"
     ]
    }
   ],
   "source": [
    "# now\n",
    "\n",
    "now = datetime.datetime.now()\n",
    "print(now)"
   ]
  },
  {
   "cell_type": "code",
   "execution_count": 49,
   "metadata": {},
   "outputs": [
    {
     "name": "stdout",
     "output_type": "stream",
     "text": [
      "Date & Time : 2021-08-17, 01:24:03\n"
     ]
    }
   ],
   "source": [
    "# now에서 뽑아쓰기 : {: } 안에 있어야 한다\n",
    "\n",
    "print('Date & Time : {:%Y-%m-%d, %H:%M:%S}'.format(now))"
   ]
  },
  {
   "cell_type": "code",
   "execution_count": 50,
   "metadata": {},
   "outputs": [
    {
     "name": "stdout",
     "output_type": "stream",
     "text": [
      "Date :  2021/08/17\n",
      "Time :  01:24:03\n"
     ]
    }
   ],
   "source": [
    "print('Date : {: %Y/%m/%d}'.format(now))\n",
    "print('Time : {: %H:%M:%S}'.format(now))"
   ]
  },
  {
   "cell_type": "code",
   "execution_count": 51,
   "metadata": {},
   "outputs": [
    {
     "name": "stdout",
     "output_type": "stream",
     "text": [
      "-14 days, 8:55:56.567349\n"
     ]
    }
   ],
   "source": [
    "# 날짜 차이\n",
    "\n",
    "diff_day1 = set_dt - now\n",
    "print(diff_day1)"
   ]
  },
  {
   "cell_type": "code",
   "execution_count": 52,
   "metadata": {},
   "outputs": [
    {
     "name": "stdout",
     "output_type": "stream",
     "text": [
      "2021-07-01\n",
      "2021-08-17\n",
      "11:17:20\n",
      "2021-12-11 15:20:30\n"
     ]
    }
   ],
   "source": [
    "from datetime import date, time, datetime\n",
    "\n",
    "print(date(2021,7,1))\n",
    "print(date.today())\n",
    "print(time(11,17,20))\n",
    "print(datetime(2021,12,11,15,20,30))"
   ]
  },
  {
   "cell_type": "markdown",
   "metadata": {},
   "source": [
    "### (3) calendar\n",
    "- 함수\n",
    "    - `calendar(year)` : 지정된 해의 전체 달력 출력 (기본형식은 3개의 열)\n",
    "    - `month(year, month)` : 지정된 해의 월의 달력을 출력\n",
    "    - `monthrange(year,month)` : 지정된 해의 월의 시작요일과 일수 반환 (요일 : 0(월)~6(일))\n",
    "    - `firstweekday()` : 달력에 표시되는 주의 첫번째 요일값 반환\n",
    "    - `setfirstweekday(weekday)` : 달력에 표시되는 주의 첫번째 요일을 지정\n",
    "    - `weekday(year,month,day)` : 지정된 날짜의 요일 반환\n",
    "    - `lsleap(year)` : 윤년이면 True, 아니면 False"
   ]
  },
  {
   "cell_type": "code",
   "execution_count": 53,
   "metadata": {},
   "outputs": [],
   "source": [
    "import calendar"
   ]
  },
  {
   "cell_type": "markdown",
   "metadata": {},
   "source": [
    "##### calendar(year)"
   ]
  },
  {
   "cell_type": "code",
   "execution_count": 54,
   "metadata": {},
   "outputs": [
    {
     "name": "stdout",
     "output_type": "stream",
     "text": [
      "                                  2021\n",
      "\n",
      "      January                   February                   March\n",
      "Mo Tu We Th Fr Sa Su      Mo Tu We Th Fr Sa Su      Mo Tu We Th Fr Sa Su\n",
      "             1  2  3       1  2  3  4  5  6  7       1  2  3  4  5  6  7\n",
      " 4  5  6  7  8  9 10       8  9 10 11 12 13 14       8  9 10 11 12 13 14\n",
      "11 12 13 14 15 16 17      15 16 17 18 19 20 21      15 16 17 18 19 20 21\n",
      "18 19 20 21 22 23 24      22 23 24 25 26 27 28      22 23 24 25 26 27 28\n",
      "25 26 27 28 29 30 31                                29 30 31\n",
      "\n",
      "       April                      May                       June\n",
      "Mo Tu We Th Fr Sa Su      Mo Tu We Th Fr Sa Su      Mo Tu We Th Fr Sa Su\n",
      "          1  2  3  4                      1  2          1  2  3  4  5  6\n",
      " 5  6  7  8  9 10 11       3  4  5  6  7  8  9       7  8  9 10 11 12 13\n",
      "12 13 14 15 16 17 18      10 11 12 13 14 15 16      14 15 16 17 18 19 20\n",
      "19 20 21 22 23 24 25      17 18 19 20 21 22 23      21 22 23 24 25 26 27\n",
      "26 27 28 29 30            24 25 26 27 28 29 30      28 29 30\n",
      "                          31\n",
      "\n",
      "        July                     August                  September\n",
      "Mo Tu We Th Fr Sa Su      Mo Tu We Th Fr Sa Su      Mo Tu We Th Fr Sa Su\n",
      "          1  2  3  4                         1             1  2  3  4  5\n",
      " 5  6  7  8  9 10 11       2  3  4  5  6  7  8       6  7  8  9 10 11 12\n",
      "12 13 14 15 16 17 18       9 10 11 12 13 14 15      13 14 15 16 17 18 19\n",
      "19 20 21 22 23 24 25      16 17 18 19 20 21 22      20 21 22 23 24 25 26\n",
      "26 27 28 29 30 31         23 24 25 26 27 28 29      27 28 29 30\n",
      "                          30 31\n",
      "\n",
      "      October                   November                  December\n",
      "Mo Tu We Th Fr Sa Su      Mo Tu We Th Fr Sa Su      Mo Tu We Th Fr Sa Su\n",
      "             1  2  3       1  2  3  4  5  6  7             1  2  3  4  5\n",
      " 4  5  6  7  8  9 10       8  9 10 11 12 13 14       6  7  8  9 10 11 12\n",
      "11 12 13 14 15 16 17      15 16 17 18 19 20 21      13 14 15 16 17 18 19\n",
      "18 19 20 21 22 23 24      22 23 24 25 26 27 28      20 21 22 23 24 25 26\n",
      "25 26 27 28 29 30 31      29 30                     27 28 29 30 31\n",
      "\n"
     ]
    }
   ],
   "source": [
    "# 2021년 달력\n",
    "\n",
    "print(calendar.calendar(2021))"
   ]
  },
  {
   "cell_type": "code",
   "execution_count": 55,
   "metadata": {},
   "outputs": [
    {
     "name": "stdout",
     "output_type": "stream",
     "text": [
      "                                                            2021\n",
      "\n",
      "      January                   February                   March                     April                      May\n",
      "Mo Tu We Th Fr Sa Su      Mo Tu We Th Fr Sa Su      Mo Tu We Th Fr Sa Su      Mo Tu We Th Fr Sa Su      Mo Tu We Th Fr Sa Su\n",
      "             1  2  3       1  2  3  4  5  6  7       1  2  3  4  5  6  7                1  2  3  4                      1  2\n",
      " 4  5  6  7  8  9 10       8  9 10 11 12 13 14       8  9 10 11 12 13 14       5  6  7  8  9 10 11       3  4  5  6  7  8  9\n",
      "11 12 13 14 15 16 17      15 16 17 18 19 20 21      15 16 17 18 19 20 21      12 13 14 15 16 17 18      10 11 12 13 14 15 16\n",
      "18 19 20 21 22 23 24      22 23 24 25 26 27 28      22 23 24 25 26 27 28      19 20 21 22 23 24 25      17 18 19 20 21 22 23\n",
      "25 26 27 28 29 30 31                                29 30 31                  26 27 28 29 30            24 25 26 27 28 29 30\n",
      "                                                                                                        31\n",
      "\n",
      "        June                      July                     August                  September                  October\n",
      "Mo Tu We Th Fr Sa Su      Mo Tu We Th Fr Sa Su      Mo Tu We Th Fr Sa Su      Mo Tu We Th Fr Sa Su      Mo Tu We Th Fr Sa Su\n",
      "    1  2  3  4  5  6                1  2  3  4                         1             1  2  3  4  5                   1  2  3\n",
      " 7  8  9 10 11 12 13       5  6  7  8  9 10 11       2  3  4  5  6  7  8       6  7  8  9 10 11 12       4  5  6  7  8  9 10\n",
      "14 15 16 17 18 19 20      12 13 14 15 16 17 18       9 10 11 12 13 14 15      13 14 15 16 17 18 19      11 12 13 14 15 16 17\n",
      "21 22 23 24 25 26 27      19 20 21 22 23 24 25      16 17 18 19 20 21 22      20 21 22 23 24 25 26      18 19 20 21 22 23 24\n",
      "28 29 30                  26 27 28 29 30 31         23 24 25 26 27 28 29      27 28 29 30               25 26 27 28 29 30 31\n",
      "                                                    30 31\n",
      "\n",
      "      November                  December\n",
      "Mo Tu We Th Fr Sa Su      Mo Tu We Th Fr Sa Su\n",
      " 1  2  3  4  5  6  7             1  2  3  4  5\n",
      " 8  9 10 11 12 13 14       6  7  8  9 10 11 12\n",
      "15 16 17 18 19 20 21      13 14 15 16 17 18 19\n",
      "22 23 24 25 26 27 28      20 21 22 23 24 25 26\n",
      "29 30                     27 28 29 30 31\n",
      "\n"
     ]
    }
   ],
   "source": [
    "# 열을 변경하고 싶으면 'm = 숫자' 를 추가\n",
    "\n",
    "print(calendar.calendar(2021, m=5))"
   ]
  },
  {
   "cell_type": "markdown",
   "metadata": {},
   "source": [
    "##### month(year, month)"
   ]
  },
  {
   "cell_type": "code",
   "execution_count": 56,
   "metadata": {},
   "outputs": [
    {
     "name": "stdout",
     "output_type": "stream",
     "text": [
      "    August 2021\n",
      "Mo Tu We Th Fr Sa Su\n",
      "                   1\n",
      " 2  3  4  5  6  7  8\n",
      " 9 10 11 12 13 14 15\n",
      "16 17 18 19 20 21 22\n",
      "23 24 25 26 27 28 29\n",
      "30 31\n",
      "\n"
     ]
    }
   ],
   "source": [
    "# 2021년 8월 달력\n",
    "\n",
    "print(calendar.month(2021,8))"
   ]
  },
  {
   "cell_type": "markdown",
   "metadata": {},
   "source": [
    "##### monthrange(year, month)"
   ]
  },
  {
   "cell_type": "code",
   "execution_count": 57,
   "metadata": {},
   "outputs": [
    {
     "name": "stdout",
     "output_type": "stream",
     "text": [
      "(6, 31)\n"
     ]
    }
   ],
   "source": [
    "# 2021년 8월의 시작 요일과 8월의 날짜수\n",
    "\n",
    "print(calendar.monthrange(2021,8))"
   ]
  },
  {
   "cell_type": "markdown",
   "metadata": {},
   "source": [
    "##### firstweekday()"
   ]
  },
  {
   "cell_type": "code",
   "execution_count": 58,
   "metadata": {},
   "outputs": [
    {
     "data": {
      "text/plain": [
       "0"
      ]
     },
     "execution_count": 58,
     "metadata": {},
     "output_type": "execute_result"
    }
   ],
   "source": [
    "calendar.firstweekday()"
   ]
  },
  {
   "cell_type": "markdown",
   "metadata": {},
   "source": [
    "##### setfirstweekday(weekday)\n",
    "- 월요일 ~ 일요일 : 0 ~ 6 or ```calendar.MONDAY``` ~ ```calendar.SUNDAY``` 입력"
   ]
  },
  {
   "cell_type": "code",
   "execution_count": 59,
   "metadata": {},
   "outputs": [
    {
     "name": "stdout",
     "output_type": "stream",
     "text": [
      "    August 2021\n",
      "Mo Tu We Th Fr Sa Su\n",
      "                   1\n",
      " 2  3  4  5  6  7  8\n",
      " 9 10 11 12 13 14 15\n",
      "16 17 18 19 20 21 22\n",
      "23 24 25 26 27 28 29\n",
      "30 31\n",
      "\n"
     ]
    }
   ],
   "source": [
    "# 현재 달력 : 월요일부터 시작\n",
    "\n",
    "print(calendar.month(2021,8))"
   ]
  },
  {
   "cell_type": "code",
   "execution_count": 60,
   "metadata": {},
   "outputs": [
    {
     "name": "stdout",
     "output_type": "stream",
     "text": [
      "    August 2021\n",
      "Su Mo Tu We Th Fr Sa\n",
      " 1  2  3  4  5  6  7\n",
      " 8  9 10 11 12 13 14\n",
      "15 16 17 18 19 20 21\n",
      "22 23 24 25 26 27 28\n",
      "29 30 31\n",
      "\n"
     ]
    }
   ],
   "source": [
    "# 일주일을 일요일부터 시작하게 변경 : setfirstweekday(6) or setfirstweekday(calendar.SUNDAY)\n",
    "\n",
    "calendar.setfirstweekday(6)\n",
    "print(calendar.month(2021,8))"
   ]
  },
  {
   "cell_type": "markdown",
   "metadata": {},
   "source": [
    "##### weekday(year, month, day)"
   ]
  },
  {
   "cell_type": "code",
   "execution_count": 61,
   "metadata": {},
   "outputs": [
    {
     "name": "stdout",
     "output_type": "stream",
     "text": [
      "6\n"
     ]
    }
   ],
   "source": [
    "# 2021/8/1의 요일 반환\n",
    "\n",
    "print(calendar.weekday(2021,8,1))"
   ]
  },
  {
   "cell_type": "code",
   "execution_count": 64,
   "metadata": {},
   "outputs": [
    {
     "name": "stdout",
     "output_type": "stream",
     "text": [
      "1\n"
     ]
    }
   ],
   "source": [
    "# 오늘 날짜의 요일 반환\n",
    "\n",
    "import datetime\n",
    "today = datetime.date.today()\n",
    "print(calendar.weekday(today.year, today.month, today.day))"
   ]
  },
  {
   "cell_type": "markdown",
   "metadata": {},
   "source": [
    "##### isleap(year)"
   ]
  },
  {
   "cell_type": "code",
   "execution_count": 65,
   "metadata": {},
   "outputs": [
    {
     "name": "stdout",
     "output_type": "stream",
     "text": [
      "False\n"
     ]
    }
   ],
   "source": [
    "# 2021년이 윤년인가\n",
    "\n",
    "print(calendar.isleap(2021))"
   ]
  },
  {
   "cell_type": "markdown",
   "metadata": {},
   "source": [
    "# 6. 패키지\n",
    "- 모듈을 모아놓은 것\n",
    "- 묶어놓은 모듈을 계층적으로 관리"
   ]
  },
  {
   "cell_type": "code",
   "execution_count": 66,
   "metadata": {},
   "outputs": [],
   "source": [
    "mkdir packages\\image; packages\\image\\io_file"
   ]
  },
  {
   "cell_type": "code",
   "execution_count": 67,
   "metadata": {},
   "outputs": [],
   "source": [
    "# 빈 __init__.py 생성\n",
    "# 해당 폴더가 패키지의 일부인 것을 알려주는 역할을 한다"
   ]
  },
  {
   "cell_type": "code",
   "execution_count": 68,
   "metadata": {},
   "outputs": [
    {
     "name": "stdout",
     "output_type": "stream",
     "text": [
      "Writing packages/image/io_file/__init__.py\n"
     ]
    }
   ],
   "source": [
    "%%writefile packages/image/io_file/__init__.py\n",
    "# File name : __init__.py"
   ]
  },
  {
   "cell_type": "code",
   "execution_count": 69,
   "metadata": {},
   "outputs": [],
   "source": [
    "# 모듈 생성"
   ]
  },
  {
   "cell_type": "code",
   "execution_count": 70,
   "metadata": {},
   "outputs": [
    {
     "name": "stdout",
     "output_type": "stream",
     "text": [
      "Writing packages/image/io_file/imgread.py\n"
     ]
    }
   ],
   "source": [
    "%%writefile packages/image/io_file/imgread.py\n",
    "# File name : imgread.py\n",
    "\n",
    "def pngread():\n",
    "    print('pngread in imgread module.')\n",
    "    \n",
    "def jpgread():\n",
    "    print('jpgread in imgread module.')"
   ]
  },
  {
   "cell_type": "code",
   "execution_count": 73,
   "metadata": {},
   "outputs": [
    {
     "name": "stdout",
     "output_type": "stream",
     "text": [
      "pngread in imgread module.\n",
      "jpgread in imgread module.\n"
     ]
    }
   ],
   "source": [
    "import packages.image.io_file.imgread as imgread\n",
    "\n",
    "imgread.pngread()\n",
    "imgread.jpgread()"
   ]
  },
  {
   "cell_type": "code",
   "execution_count": 74,
   "metadata": {},
   "outputs": [
    {
     "name": "stdout",
     "output_type": "stream",
     "text": [
      "pngread in imgread module.\n"
     ]
    }
   ],
   "source": [
    "from packages.image.io_file.imgread import pngread\n",
    "\n",
    "pngread()"
   ]
  },
  {
   "cell_type": "code",
   "execution_count": 75,
   "metadata": {},
   "outputs": [
    {
     "name": "stdout",
     "output_type": "stream",
     "text": [
      "pngread in imgread module.\n",
      "jpgread in imgread module.\n"
     ]
    }
   ],
   "source": [
    "from packages.image.io_file.imgread import *\n",
    "\n",
    "pngread()\n",
    "jpgread()"
   ]
  },
  {
   "cell_type": "code",
   "execution_count": null,
   "metadata": {},
   "outputs": [],
   "source": []
  }
 ],
 "metadata": {
  "kernelspec": {
   "display_name": "Python 3",
   "language": "python",
   "name": "python3"
  },
  "language_info": {
   "codemirror_mode": {
    "name": "ipython",
    "version": 3
   },
   "file_extension": ".py",
   "mimetype": "text/x-python",
   "name": "python",
   "nbconvert_exporter": "python",
   "pygments_lexer": "ipython3",
   "version": "3.8.5"
  }
 },
 "nbformat": 4,
 "nbformat_minor": 4
}
