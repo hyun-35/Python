{
 "cells": [
  {
   "cell_type": "code",
   "execution_count": 7,
   "metadata": {},
   "outputs": [],
   "source": [
    "from selenium import webdriver\n",
    "from bs4 import BeautifulSoup"
   ]
  },
  {
   "cell_type": "markdown",
   "metadata": {},
   "source": [
    "# 멜론"
   ]
  },
  {
   "cell_type": "code",
   "execution_count": 8,
   "metadata": {},
   "outputs": [],
   "source": [
    "driver = webdriver.Chrome('C:/Users/LSH/수업실습/chromedriver/chromedriver.exe')\n",
    "url = 'https://www.melon.com/chart/index.htm'\n",
    "driver.get(url)"
   ]
  },
  {
   "cell_type": "code",
   "execution_count": 9,
   "metadata": {},
   "outputs": [],
   "source": [
    "html = driver.page_source\n",
    "soup = BeautifulSoup(html, 'html.parser')"
   ]
  },
  {
   "cell_type": "code",
   "execution_count": 11,
   "metadata": {},
   "outputs": [],
   "source": [
    "song_data = []\n",
    "rank = 1\n",
    "\n",
    "songs = soup.select('table > tbody > tr')\n",
    "\n",
    "for song in songs:\n",
    "    title = song.select('div.rank01 > span > a')[0].text\n",
    "    singer = song.select('div.rank02 > a')[0].text\n",
    "    song_data.append(['Melon', rank, title, singer])\n",
    "    rank = rank + 1"
   ]
  },
  {
   "cell_type": "code",
   "execution_count": 13,
   "metadata": {},
   "outputs": [
    {
     "data": {
      "text/html": [
       "<div>\n",
       "<style scoped>\n",
       "    .dataframe tbody tr th:only-of-type {\n",
       "        vertical-align: middle;\n",
       "    }\n",
       "\n",
       "    .dataframe tbody tr th {\n",
       "        vertical-align: top;\n",
       "    }\n",
       "\n",
       "    .dataframe thead th {\n",
       "        text-align: right;\n",
       "    }\n",
       "</style>\n",
       "<table border=\"1\" class=\"dataframe\">\n",
       "  <thead>\n",
       "    <tr style=\"text-align: right;\">\n",
       "      <th></th>\n",
       "      <th>서비스</th>\n",
       "      <th>순위</th>\n",
       "      <th>타이틀</th>\n",
       "      <th>가수</th>\n",
       "    </tr>\n",
       "  </thead>\n",
       "  <tbody>\n",
       "    <tr>\n",
       "      <th>0</th>\n",
       "      <td>Melon</td>\n",
       "      <td>1</td>\n",
       "      <td>신호등</td>\n",
       "      <td>이무진</td>\n",
       "    </tr>\n",
       "    <tr>\n",
       "      <th>1</th>\n",
       "      <td>Melon</td>\n",
       "      <td>2</td>\n",
       "      <td>바라만 본다</td>\n",
       "      <td>MSG워너비(M.O.M)</td>\n",
       "    </tr>\n",
       "    <tr>\n",
       "      <th>2</th>\n",
       "      <td>Melon</td>\n",
       "      <td>3</td>\n",
       "      <td>Next Level</td>\n",
       "      <td>aespa</td>\n",
       "    </tr>\n",
       "    <tr>\n",
       "      <th>3</th>\n",
       "      <td>Melon</td>\n",
       "      <td>4</td>\n",
       "      <td>낙하 (with 아이유)</td>\n",
       "      <td>AKMU (악뮤)</td>\n",
       "    </tr>\n",
       "    <tr>\n",
       "      <th>4</th>\n",
       "      <td>Melon</td>\n",
       "      <td>5</td>\n",
       "      <td>Permission to Dance</td>\n",
       "      <td>방탄소년단</td>\n",
       "    </tr>\n",
       "  </tbody>\n",
       "</table>\n",
       "</div>"
      ],
      "text/plain": [
       "     서비스  순위                  타이틀             가수\n",
       "0  Melon   1                  신호등            이무진\n",
       "1  Melon   2               바라만 본다  MSG워너비(M.O.M)\n",
       "2  Melon   3           Next Level          aespa\n",
       "3  Melon   4        낙하 (with 아이유)      AKMU (악뮤)\n",
       "4  Melon   5  Permission to Dance          방탄소년단"
      ]
     },
     "execution_count": 13,
     "metadata": {},
     "output_type": "execute_result"
    }
   ],
   "source": [
    "import pandas as pd\n",
    "columns = ['서비스','순위','타이틀','가수']\n",
    "pd_data = pd.DataFrame(song_data, columns = columns)\n",
    "pd_data.head()"
   ]
  },
  {
   "cell_type": "code",
   "execution_count": 14,
   "metadata": {},
   "outputs": [],
   "source": [
    "pd_data.to_excel('./song_result/melon.xlsx', index = False)"
   ]
  },
  {
   "cell_type": "code",
   "execution_count": 15,
   "metadata": {},
   "outputs": [],
   "source": [
    "driver.quit()"
   ]
  },
  {
   "cell_type": "markdown",
   "metadata": {},
   "source": [
    "# 벅스"
   ]
  },
  {
   "cell_type": "code",
   "execution_count": 37,
   "metadata": {},
   "outputs": [],
   "source": [
    "driver = webdriver.Chrome('C:/Users/LSH/수업실습/chromedriver/chromedriver.exe')\n",
    "url = 'https://music.bugs.co.kr/chart'\n",
    "driver.get(url)"
   ]
  },
  {
   "cell_type": "code",
   "execution_count": 38,
   "metadata": {},
   "outputs": [],
   "source": [
    "html = driver.page_source\n",
    "soup = BeautifulSoup(html, 'html.parser')"
   ]
  },
  {
   "cell_type": "code",
   "execution_count": 39,
   "metadata": {},
   "outputs": [
    {
     "name": "stdout",
     "output_type": "stream",
     "text": [
      "104\n"
     ]
    }
   ],
   "source": [
    "songs = soup.select('tr')\n",
    "print(len(songs))"
   ]
  },
  {
   "cell_type": "code",
   "execution_count": 40,
   "metadata": {},
   "outputs": [
    {
     "name": "stdout",
     "output_type": "stream",
     "text": [
      "103\n"
     ]
    }
   ],
   "source": [
    "songs = soup.select('tbody > tr')\n",
    "print(len(songs))"
   ]
  },
  {
   "cell_type": "code",
   "execution_count": 41,
   "metadata": {},
   "outputs": [
    {
     "name": "stdout",
     "output_type": "stream",
     "text": [
      "103\n"
     ]
    }
   ],
   "source": [
    "songs = soup.select('table > tbody > tr')\n",
    "print(len(songs))"
   ]
  },
  {
   "cell_type": "code",
   "execution_count": 42,
   "metadata": {},
   "outputs": [
    {
     "name": "stdout",
     "output_type": "stream",
     "text": [
      "100\n"
     ]
    }
   ],
   "source": [
    "songs = soup.select('table.byChart > tbody > tr')\n",
    "print(len(songs))"
   ]
  },
  {
   "cell_type": "code",
   "execution_count": 43,
   "metadata": {},
   "outputs": [
    {
     "name": "stdout",
     "output_type": "stream",
     "text": [
      "<tr albumid=\"20416040\" artistid=\"80005030\" multiartist=\"N\" mvid=\"0\" rowtype=\"track\" trackid=\"32315721\">\n",
      " <input name=\"_isStream\" type=\"hidden\" value=\"32315721\"/>\n",
      " <input name=\"_isDown\" type=\"hidden\" value=\"32315721\"/>\n",
      " <td class=\"check\">\n",
      "  <input buyminquality=\"T\" disc_id=\"1\" name=\"check\" title=\"회상\" type=\"checkbox\" value=\"32315721\"/>\n",
      " </td>\n",
      " <td>\n",
      "  <div class=\"ranking\">\n",
      "   <strong>\n",
      "    1\n",
      "   </strong>\n",
      "   <p class=\"change up\">\n",
      "    <span class=\"arrow\">\n",
      "    </span>\n",
      "    <em>\n",
      "     1\n",
      "    </em>\n",
      "    <span>\n",
      "     계단 상승\n",
      "    </span>\n",
      "   </p>\n",
      "  </div>\n",
      " </td>\n",
      " <td>\n",
      "  <a class=\"thumbnail\" href=\"https://music.bugs.co.kr/album/20416040?wl_ref=list_tr_07_chart\" onclick=\"\n",
      "\">\n",
      "   <span class=\"mask\">\n",
      "   </span>\n",
      "   <img alt=\"슬기로운 의사생활 시즌2 OST Part 9 대표이미지\" onerror=\"bugs.utils.imgError(this);\" src=\"https://image.bugsm.co.kr/album/images/50/204160/20416040.jpg?version=20210820120024.0\"/>\n",
      "  </a>\n",
      " </td>\n",
      " <td>\n",
      "  <a class=\"trackInfo\" href=\"https://music.bugs.co.kr/track/32315721?wl_ref=list_tr_08_chart\" onclick=\"\n",
      "\">\n",
      "   곡정보\n",
      "  </a>\n",
      " </td>\n",
      " <th scope=\"row\">\n",
      "  <p adult_yn=\"N\" class=\"title\">\n",
      "   <a adultcheckval=\"1\" aria-label=\"새창\" href=\"javascript:;\" onclick=\"bugs.wiselog.area('list_tr_09_chart');bugs.music.listen('32315721',true);\n",
      "\" title=\"회상\">\n",
      "    회상\n",
      "   </a>\n",
      "  </p>\n",
      " </th>\n",
      " <td class=\"left\">\n",
      "  <p class=\"artist\">\n",
      "   <a href=\"https://music.bugs.co.kr/artist/80005030?wl_ref=list_tr_10_chart\" onclick=\"\n",
      "\" title=\"정경호\">\n",
      "    정경호\n",
      "   </a>\n",
      "  </p>\n",
      " </td>\n",
      " <td class=\"left\">\n",
      "  <a class=\"album\" href=\"https://music.bugs.co.kr/album/20416040?wl_ref=list_tr_11_chart\" onclick=\"\n",
      "\" title=\"슬기로운 의사생활 시즌2 OST Part 9\">\n",
      "   슬기로운 의사생활 시즌2 OST Part 9\n",
      "  </a>\n",
      " </td>\n",
      " <td>\n",
      "  <a adultcheckval=\"1\" aria-label=\"새창\" class=\"btn play\" href=\"javascript:;\" onclick=\"bugs.wiselog.area('list_tr_12_chart');bugs.music.listen('32315721',true);\n",
      "\">\n",
      "   듣기\n",
      "  </a>\n",
      " </td>\n",
      " <td>\n",
      "  <a adultcheckval=\"1\" aria-label=\"새창\" class=\"btn addPlaylist\" href=\"javascript:;\" onclick=\"bugs.wiselog.area('list_tr_13_chart');bugs.music.listen('32315721');\n",
      "\">\n",
      "   재생목록에 추가\n",
      "  </a>\n",
      " </td>\n",
      " <td>\n",
      "  <a class=\"btn addAlbum\" href=\"javascript:;\" onclick=\"bugs.wiselog.area('list_tr_14_chart');bugs.music.addTrackToMyAlbum(this,'32315721');\n",
      "\" track_title=\"회상\">\n",
      "   내 앨범에 담기\n",
      "  </a>\n",
      " </td>\n",
      " <td>\n",
      "  <a adultcheckval=\"1\" aria-label=\"새창\" class=\"btn download flac\" href=\"javascript:;\" onclick=\"bugs.wiselog.area('list_tr_15_chart');bugs.layermenu.down(this,'32315721','true','true','44.1','true','48', null );\n",
      "\">\n",
      "   <em class=\"flac\">\n",
      "    flac\n",
      "   </em>\n",
      "   다운로드\n",
      "  </a>\n",
      " </td>\n",
      " <td>\n",
      "  <span class=\"btn viewMV\">\n",
      "   영상 재생 불가\n",
      "  </span>\n",
      " </td>\n",
      " <td>\n",
      "  <a artist_disp_nm=\"정경호\" artist_id=\"80005030\" class=\"btnActions\" href=\"javascript:;\" layer_type=\"CHART\" layerpositiontarget=\"td\" onclick=\"bugs.wiselog.area('list_tr_17_chart');\n",
      "bugs.layermenu.trackMoreAction(this,'32315721','0','20416040','bugs.music.listenRadioFromSeed(\\'32315721\\',\\'track\\');','N', 'Y', '_chart');\n",
      "\" track_title=\"회상\">\n",
      "   기타 기능\n",
      "  </a>\n",
      " </td>\n",
      "</tr>\n",
      "\n"
     ]
    }
   ],
   "source": [
    "print(songs[0].prettify())"
   ]
  },
  {
   "cell_type": "code",
   "execution_count": 44,
   "metadata": {},
   "outputs": [
    {
     "data": {
      "text/plain": [
       "[<a class=\"thumbnail\" href=\"https://music.bugs.co.kr/album/20416040?wl_ref=list_tr_07_chart\" onclick=\"\n",
       " \">\n",
       " <span class=\"mask\"></span>\n",
       " <img alt=\"슬기로운 의사생활 시즌2 OST Part 9 대표이미지\" onerror=\"bugs.utils.imgError(this);\" src=\"https://image.bugsm.co.kr/album/images/50/204160/20416040.jpg?version=20210820120024.0\"/>\n",
       " </a>,\n",
       " <a class=\"trackInfo\" href=\"https://music.bugs.co.kr/track/32315721?wl_ref=list_tr_08_chart\" onclick=\"\n",
       " \">곡정보</a>,\n",
       " <a adultcheckval=\"1\" aria-label=\"새창\" href=\"javascript:;\" onclick=\"bugs.wiselog.area('list_tr_09_chart');bugs.music.listen('32315721',true);\n",
       " \" title=\"회상\">회상</a>,\n",
       " <a href=\"https://music.bugs.co.kr/artist/80005030?wl_ref=list_tr_10_chart\" onclick=\"\n",
       " \" title=\"정경호\">정경호</a>,\n",
       " <a class=\"album\" href=\"https://music.bugs.co.kr/album/20416040?wl_ref=list_tr_11_chart\" onclick=\"\n",
       " \" title=\"슬기로운 의사생활 시즌2 OST Part 9\">슬기로운 의사생활 시즌2 OST Part 9</a>,\n",
       " <a adultcheckval=\"1\" aria-label=\"새창\" class=\"btn play\" href=\"javascript:;\" onclick=\"bugs.wiselog.area('list_tr_12_chart');bugs.music.listen('32315721',true);\n",
       " \">듣기</a>,\n",
       " <a adultcheckval=\"1\" aria-label=\"새창\" class=\"btn addPlaylist\" href=\"javascript:;\" onclick=\"bugs.wiselog.area('list_tr_13_chart');bugs.music.listen('32315721');\n",
       " \">재생목록에 추가</a>,\n",
       " <a class=\"btn addAlbum\" href=\"javascript:;\" onclick=\"bugs.wiselog.area('list_tr_14_chart');bugs.music.addTrackToMyAlbum(this,'32315721');\n",
       " \" track_title=\"회상\">내 앨범에 담기</a>,\n",
       " <a adultcheckval=\"1\" aria-label=\"새창\" class=\"btn download flac\" href=\"javascript:;\" onclick=\"bugs.wiselog.area('list_tr_15_chart');bugs.layermenu.down(this,'32315721','true','true','44.1','true','48', null );\n",
       " \"><em class=\"flac\">flac </em>다운로드</a>,\n",
       " <a artist_disp_nm=\"정경호\" artist_id=\"80005030\" class=\"btnActions\" href=\"javascript:;\" layer_type=\"CHART\" layerpositiontarget=\"td\" onclick=\"bugs.wiselog.area('list_tr_17_chart');\n",
       " bugs.layermenu.trackMoreAction(this,'32315721','0','20416040','bugs.music.listenRadioFromSeed(\\'32315721\\',\\'track\\');','N', 'Y', '_chart');\n",
       " \" track_title=\"회상\">기타 기능</a>]"
      ]
     },
     "execution_count": 44,
     "metadata": {},
     "output_type": "execute_result"
    }
   ],
   "source": [
    "# 한 개의 곡 정보 찾기 1\n",
    "song = songs[0]\n",
    "title = song.select('a')\n",
    "title"
   ]
  },
  {
   "cell_type": "code",
   "execution_count": 45,
   "metadata": {},
   "outputs": [
    {
     "data": {
      "text/plain": [
       "[<a adultcheckval=\"1\" aria-label=\"새창\" href=\"javascript:;\" onclick=\"bugs.wiselog.area('list_tr_09_chart');bugs.music.listen('32315721',true);\n",
       " \" title=\"회상\">회상</a>,\n",
       " <a href=\"https://music.bugs.co.kr/artist/80005030?wl_ref=list_tr_10_chart\" onclick=\"\n",
       " \" title=\"정경호\">정경호</a>]"
      ]
     },
     "execution_count": 45,
     "metadata": {},
     "output_type": "execute_result"
    }
   ],
   "source": [
    "# 한 개의 곡 정보 찾기 2\n",
    "title = song.select('p > a')\n",
    "title"
   ]
  },
  {
   "cell_type": "code",
   "execution_count": 46,
   "metadata": {},
   "outputs": [
    {
     "data": {
      "text/plain": [
       "'회상'"
      ]
     },
     "execution_count": 46,
     "metadata": {},
     "output_type": "execute_result"
    }
   ],
   "source": [
    "# 한 개의 곡 정보 찾기 3\n",
    "title = song.select('p.title > a')[0].text\n",
    "title"
   ]
  },
  {
   "cell_type": "code",
   "execution_count": 47,
   "metadata": {},
   "outputs": [
    {
     "data": {
      "text/plain": [
       "'정경호'"
      ]
     },
     "execution_count": 47,
     "metadata": {},
     "output_type": "execute_result"
    }
   ],
   "source": [
    "# 가수 출력\n",
    "singer = song.select('p.artist > a')[0].text.strip()\n",
    "singer"
   ]
  },
  {
   "cell_type": "code",
   "execution_count": 50,
   "metadata": {},
   "outputs": [
    {
     "name": "stdout",
     "output_type": "stream",
     "text": [
      "회상|정경호\n",
      "Queendom|Red Velvet (레드벨벳)\n",
      "DUMB DUMB|전소미\n",
      "STAY|The Kid LAROI\n",
      "낙하 (with 아이유)|AKMU(악뮤)\n",
      "사진을 보다가|다비치\n",
      "Next Level|aespa\n",
      "신호등|이무진\n",
      "Weekend|태연 (TAEYEON)\n",
      "Permission to Dance|방탄소년단\n",
      "비가 오는 날엔 (2021)|헤이즈(Heize)\n",
      "Bad Habits|Ed Sheeran(에드 시런)\n",
      "여전히 아름다운지|세븐틴(SEVENTEEN)\n",
      "Visiting Hours|Ed Sheeran(에드 시런)\n",
      "바라만 본다|MSG워너비(M.O.M)\n",
      "Butter|방탄소년단\n",
      "고백|10CM\n",
      "좋아좋아|조정석\n",
      "둘 중에 골라 (Summer or Summer)|효린\n",
      "너에게|유연석\n",
      "Alcohol-Free|TWICE (트와이스)\n",
      "OHAYO MY NIGHT|디핵(D-Hack)\n",
      "You can't sit with us|선미\n",
      "Dun Dun Dance|오마이걸(OH MY GIRL)\n",
      "Leave Before You Love Me|Marshmello(마시멜로)\n",
      "Black Mamba|aespa\n",
      "Peaches (feat. Daniel Caesar, Giveon)|Justin Bieber(저스틴 비버)\n",
      "벌써 일년 (Drama Ver.)|미도와 파라솔\n",
      "롤린 (Rollin')|브레이브걸스(Brave Girls)\n",
      "이젠 잊기로 해요 (Drama Ver.)|미도와 파라솔\n",
      "전쟁터 (with 이선희)|AKMU(악뮤)\n",
      "ASAP|STAYC(스테이씨)\n",
      "고백|장범준\n",
      "상상더하기|라붐(LABOUM)\n",
      "헤픈 우연|헤이즈(Heize)\n",
      "비와 당신|이무진\n",
      "라일락|아이유(IU)\n",
      "치맛바람 (Chi Mat Ba Ram)|브레이브걸스(Brave Girls)\n",
      "Off My Face|Justin Bieber(저스틴 비버)\n",
      "슈퍼스타|미도와 파라솔\n",
      "운전만해 (We Ride)|브레이브걸스(Brave Girls)\n",
      "다정히 내 이름을 부르면|경서예지\n",
      "Knock On Wood|Red Velvet (레드벨벳)\n",
      "제자리 걸음|V.O.S.\n",
      "Celebrity|아이유(IU)\n",
      "비 오는 날 듣기 좋은 노래 (Feat. Colde)|에픽하이 (EPIK HIGH)\n",
      "가을 우체국 앞에서|김대명\n",
      "Dynamite|방탄소년단\n",
      "도망가자 (Run With Me)|선우정아(Sunwoojunga)\n",
      "Kiss Me More (feat. SZA)|Doja Cat(도자 캣)\n",
      "THRILL RIDE|더보이즈(THE BOYZ)\n",
      "I'm Gonna Love You (Feat. 원슈타인)|디오 (D.O.)\n",
      "Stupid love song (with Crush)|AKMU(악뮤)\n",
      "하루만 더|빅마마(Big Mama)\n",
      "Lovesick Girls|BLACKPINK\n",
      "Loving You Girl (feat. Hkeem)|Peder Elias\n",
      "안녕 (Hello)|조이 (JOY)\n",
      "뚫고 지나가요|DAY6 (Even of Day)\n",
      "사랑하니까 (2021)|이보람 (씨야)\n",
      "parachute|John K\n",
      "어푸 (Ah puh)|아이유(IU)\n",
      "내 손을 잡아|아이유(IU)\n",
      "Pose|Red Velvet (레드벨벳)\n",
      "Timeless|SG워너비\n",
      "LO$ER=LO♡ER|투모로우바이투게더\n",
      "다시, 여름 (Hello, Sunset)|Red Velvet (레드벨벳)\n",
      "밤이 되니까|원슈타인\n",
      "Blueming|아이유(IU)\n",
      "BENCH (with Zion.T)|AKMU(악뮤)\n",
      "흔들리는 꽃들 속에서 네 샴푸향이 느껴진거야|장범준\n",
      "째깍 째깍 째깍 (with Beenzino)|AKMU(악뮤)\n",
      "넌 좋은 사람|SG워너비\n",
      "나는 너 좋아|장범준\n",
      "WE GO|프로미스나인\n",
      "자니|하성운X펀치(Punch)\n",
      "에잇(Prod.&Feat. SUGA of BTS)|아이유(IU)\n",
      "보고 싶단 말이야|펀치 (Punch)\n",
      "Leave The Door Open|Bruno Mars(브루노 마스)\n",
      "Pushin' N Pullin'|Red Velvet (레드벨벳)\n",
      "작은 것들을 위한 시 (Boy With Luv) (Feat. Halsey)|방탄소년단\n",
      "외딴섬 로맨틱|잔나비\n",
      "Better Be|Red Velvet (레드벨벳)\n",
      "추적이는 여름 비가 되어|장범준\n",
      "A Little Space (feat. YUNHO, SAN, JONGHO of ATEEZ)|Pentatonix(펜타토닉스)\n",
      "Savage Love (Laxed - Siren Beat) (BTS Remix)|Jawsh 685\n",
      "Dolphin|오마이걸(OH MY GIRL)\n",
      "나를 아는 사람|MSG워너비(정상동기)\n",
      "어떻게 이별까지 사랑하겠어, 널 사랑하는 거지|AKMU(악뮤)\n",
      "마.피.아. In the morning|ITZY (있지)\n",
      "Save Your Tears (Remix)|The Weeknd(위켄드)\n",
      "사이렌 Remix (Feat. UNEDUCATED KID, Paul Blanco)|호미들\n",
      "Life Goes On|방탄소년단\n",
      "다정한 봄에게|온유 (ONEW)\n",
      "Second (Feat. 비비 (BIBI))|효연 (HYO)\n",
      "허리춤|오반 (OVAN)\n",
      "Coin|아이유(IU)\n",
      "SUNNY|선미\n",
      "EVEREST (with Sam Kim) |AKMU(악뮤)\n",
      "Tiny Riot|Sam Ryder\n",
      "은하수를 닮은 너에게 (Feat.몰리디)|경서예지\n"
     ]
    }
   ],
   "source": [
    "# 100위 노래 순위 정보 가져오기\n",
    "\n",
    "songs = soup.select('table.byChart > tbody > tr')\n",
    "\n",
    "for song in songs:\n",
    "    title = song.select('p.title > a')[0].text\n",
    "    singer = song.select('p.artist > a')[0].text\n",
    "    print(title, singer, sep = '|')"
   ]
  },
  {
   "cell_type": "code",
   "execution_count": 51,
   "metadata": {},
   "outputs": [],
   "source": [
    "song_data = []\n",
    "rank = 1\n",
    "songs = soup.select('table.byChart > tbody > tr')\n",
    "for song in songs :\n",
    "    title = song.select('p.title > a')[0].text\n",
    "    singer = song.select('p.artist > a')[0].text\n",
    "    song_data.append(['Bugs', rank, singer, title])\n",
    "    rank = rank + 1"
   ]
  },
  {
   "cell_type": "code",
   "execution_count": 52,
   "metadata": {},
   "outputs": [
    {
     "data": {
      "text/html": [
       "<div>\n",
       "<style scoped>\n",
       "    .dataframe tbody tr th:only-of-type {\n",
       "        vertical-align: middle;\n",
       "    }\n",
       "\n",
       "    .dataframe tbody tr th {\n",
       "        vertical-align: top;\n",
       "    }\n",
       "\n",
       "    .dataframe thead th {\n",
       "        text-align: right;\n",
       "    }\n",
       "</style>\n",
       "<table border=\"1\" class=\"dataframe\">\n",
       "  <thead>\n",
       "    <tr style=\"text-align: right;\">\n",
       "      <th></th>\n",
       "      <th>서비스</th>\n",
       "      <th>순위</th>\n",
       "      <th>타이틀</th>\n",
       "      <th>가수</th>\n",
       "    </tr>\n",
       "  </thead>\n",
       "  <tbody>\n",
       "    <tr>\n",
       "      <th>0</th>\n",
       "      <td>Bugs</td>\n",
       "      <td>1</td>\n",
       "      <td>정경호</td>\n",
       "      <td>회상</td>\n",
       "    </tr>\n",
       "    <tr>\n",
       "      <th>1</th>\n",
       "      <td>Bugs</td>\n",
       "      <td>2</td>\n",
       "      <td>Red Velvet (레드벨벳)</td>\n",
       "      <td>Queendom</td>\n",
       "    </tr>\n",
       "    <tr>\n",
       "      <th>2</th>\n",
       "      <td>Bugs</td>\n",
       "      <td>3</td>\n",
       "      <td>전소미</td>\n",
       "      <td>DUMB DUMB</td>\n",
       "    </tr>\n",
       "    <tr>\n",
       "      <th>3</th>\n",
       "      <td>Bugs</td>\n",
       "      <td>4</td>\n",
       "      <td>The Kid LAROI</td>\n",
       "      <td>STAY</td>\n",
       "    </tr>\n",
       "    <tr>\n",
       "      <th>4</th>\n",
       "      <td>Bugs</td>\n",
       "      <td>5</td>\n",
       "      <td>AKMU(악뮤)</td>\n",
       "      <td>낙하 (with 아이유)</td>\n",
       "    </tr>\n",
       "  </tbody>\n",
       "</table>\n",
       "</div>"
      ],
      "text/plain": [
       "    서비스  순위                타이틀             가수\n",
       "0  Bugs   1                정경호             회상\n",
       "1  Bugs   2  Red Velvet (레드벨벳)       Queendom\n",
       "2  Bugs   3                전소미      DUMB DUMB\n",
       "3  Bugs   4      The Kid LAROI           STAY\n",
       "4  Bugs   5           AKMU(악뮤)  낙하 (with 아이유)"
      ]
     },
     "execution_count": 52,
     "metadata": {},
     "output_type": "execute_result"
    }
   ],
   "source": [
    "import pandas as pd\n",
    "columns = ['서비스','순위','타이틀','가수']\n",
    "pd_data = pd.DataFrame(song_data, columns = columns)\n",
    "pd_data.head()"
   ]
  },
  {
   "cell_type": "code",
   "execution_count": 53,
   "metadata": {},
   "outputs": [
    {
     "name": "stdout",
     "output_type": "stream",
     "text": [
      "<class 'pandas.core.frame.DataFrame'>\n",
      "RangeIndex: 100 entries, 0 to 99\n",
      "Data columns (total 4 columns):\n",
      " #   Column  Non-Null Count  Dtype \n",
      "---  ------  --------------  ----- \n",
      " 0   서비스     100 non-null    object\n",
      " 1   순위      100 non-null    int64 \n",
      " 2   타이틀     100 non-null    object\n",
      " 3   가수      100 non-null    object\n",
      "dtypes: int64(1), object(3)\n",
      "memory usage: 3.2+ KB\n"
     ]
    }
   ],
   "source": [
    "pd_data.info()"
   ]
  },
  {
   "cell_type": "code",
   "execution_count": 54,
   "metadata": {},
   "outputs": [],
   "source": [
    "pd_data.to_excel('./song_result/bugs.xlsx', index = False)"
   ]
  },
  {
   "cell_type": "code",
   "execution_count": 55,
   "metadata": {},
   "outputs": [],
   "source": [
    "driver.quit()"
   ]
  },
  {
   "cell_type": "markdown",
   "metadata": {},
   "source": [
    "# 지니"
   ]
  },
  {
   "cell_type": "code",
   "execution_count": 58,
   "metadata": {},
   "outputs": [],
   "source": [
    "from selenium import webdriver\n",
    "from bs4 import BeautifulSoup\n",
    "import pandas as pd\n",
    "\n",
    "driver = webdriver.Chrome('C:/Users/LSH/수업실습/chromedriver/chromedriver.exe')\n",
    "url = 'https://www.genie.co.kr/chart/top200'\n",
    "driver.get(url)\n",
    "\n",
    "html = driver.page_source\n",
    "soup = BeautifulSoup(html, 'html.parser')\n",
    "\n",
    "song_data = []\n",
    "rank = 1\n",
    "songs = soup.select('tbody > tr')\n",
    "\n",
    "for song in songs:\n",
    "    title = song.select('a.title')[0].text.strip()\n",
    "    singer = song.select('a.artist')[0].text\n",
    "    song_data.append(['Genie',rank, title, singer])\n",
    "    rank = rank + 1\n",
    "    \n",
    "columns = ['서비스', '순위','타이틀','가수']\n",
    "pd_data = pd.DataFrame(song_data, columns = columns)\n",
    "pd_data.to_excel('./song_result/genie.xlsx', index = False)"
   ]
  },
  {
   "cell_type": "code",
   "execution_count": 62,
   "metadata": {},
   "outputs": [],
   "source": [
    "driver.quit()"
   ]
  },
  {
   "cell_type": "markdown",
   "metadata": {},
   "source": [
    "# 엑셀파일 통합"
   ]
  },
  {
   "cell_type": "code",
   "execution_count": 59,
   "metadata": {},
   "outputs": [],
   "source": [
    "excel_names = ['./song_result/melon.xlsx','./song_result/bugs.xlsx','./song_result/genie.xlsx']\n",
    "\n",
    "appended_data = pd.DataFrame()\n",
    "\n",
    "for name in excel_names:\n",
    "    pd_data = pd.read_excel(name)\n",
    "    appended_data = appended_data.append(pd_data)"
   ]
  },
  {
   "cell_type": "code",
   "execution_count": 60,
   "metadata": {},
   "outputs": [
    {
     "name": "stdout",
     "output_type": "stream",
     "text": [
      "<class 'pandas.core.frame.DataFrame'>\n",
      "Int64Index: 250 entries, 0 to 49\n",
      "Data columns (total 4 columns):\n",
      " #   Column  Non-Null Count  Dtype \n",
      "---  ------  --------------  ----- \n",
      " 0   서비스     250 non-null    object\n",
      " 1   순위      250 non-null    int64 \n",
      " 2   타이틀     250 non-null    object\n",
      " 3   가수      250 non-null    object\n",
      "dtypes: int64(1), object(3)\n",
      "memory usage: 9.8+ KB\n"
     ]
    }
   ],
   "source": [
    "appended_data.info()"
   ]
  },
  {
   "cell_type": "code",
   "execution_count": 61,
   "metadata": {},
   "outputs": [],
   "source": [
    "appended_data.to_excel('./song_result/total.xlsx', index = False)"
   ]
  },
  {
   "cell_type": "code",
   "execution_count": null,
   "metadata": {},
   "outputs": [],
   "source": []
  }
 ],
 "metadata": {
  "kernelspec": {
   "display_name": "Python 3",
   "language": "python",
   "name": "python3"
  },
  "language_info": {
   "codemirror_mode": {
    "name": "ipython",
    "version": 3
   },
   "file_extension": ".py",
   "mimetype": "text/x-python",
   "name": "python",
   "nbconvert_exporter": "python",
   "pygments_lexer": "ipython3",
   "version": "3.8.5"
  }
 },
 "nbformat": 4,
 "nbformat_minor": 4
}
