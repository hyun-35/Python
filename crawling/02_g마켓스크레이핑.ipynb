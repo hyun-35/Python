{
 "cells": [
  {
   "cell_type": "markdown",
   "metadata": {},
   "source": [
    "# Selenium 2\n",
    "\n",
    "- 스크래핑\n",
    "    - G마켓 베스트 상품 데이터"
   ]
  },
  {
   "cell_type": "code",
   "execution_count": 1,
   "metadata": {},
   "outputs": [],
   "source": [
    "#!pip install selenium"
   ]
  },
  {
   "cell_type": "markdown",
   "metadata": {},
   "source": [
    "패키지 import"
   ]
  },
  {
   "cell_type": "code",
   "execution_count": 1,
   "metadata": {},
   "outputs": [],
   "source": [
    "import requests\n",
    "from selenium import webdriver\n",
    "import time"
   ]
  },
  {
   "cell_type": "markdown",
   "metadata": {},
   "source": [
    "## 1. Scraping\n",
    "- G마켓 베스트 셀러 페이지 크롤링\n",
    "- 크롤링한 데이터를 전처리 (원가 데이터가 없는 경우 판매가를 넣음)\n",
    "- 할인율을 계산한 컬럼을 추가\n",
    "- 할인율이 50%이상인 상품만 필터링"
   ]
  },
  {
   "cell_type": "markdown",
   "metadata": {},
   "source": [
    "웹드라이버 실행 및 페이지 이동"
   ]
  },
  {
   "cell_type": "code",
   "execution_count": 2,
   "metadata": {},
   "outputs": [],
   "source": [
    "driver = webdriver.Chrome('C:/Users/LSH/수업실습/chromedriver/chromedriver.exe')\n",
    "url = \"http://corners.gmarket.co.kr/Bestsellers\"\n",
    "driver.get(url)"
   ]
  },
  {
   "cell_type": "markdown",
   "metadata": {},
   "source": [
    "아이템 엘리먼트들 선택"
   ]
  },
  {
   "cell_type": "code",
   "execution_count": 3,
   "metadata": {},
   "outputs": [
    {
     "data": {
      "text/plain": [
       "200"
      ]
     },
     "execution_count": 3,
     "metadata": {},
     "output_type": "execute_result"
    }
   ],
   "source": [
    "items = driver.find_elements_by_css_selector(\n",
    "    \".best-list:nth-child(3) > ul > li\")\n",
    "len(items)"
   ]
  },
  {
   "cell_type": "markdown",
   "metadata": {},
   "source": [
    "제목 링크 원가, 판매가 텍스트 데이터를 크롤링"
   ]
  },
  {
   "cell_type": "code",
   "execution_count": 4,
   "metadata": {},
   "outputs": [],
   "source": [
    "dict_list = []\n",
    "for item in items:\n",
    "    title = item.find_element_by_css_selector(\".itemname\").text\n",
    "    link = item.find_element_by_css_selector(\".itemname\").get_attribute(\"href\")\n",
    "    o_price = item.find_element_by_css_selector(\".o-price\").text[:-1]\n",
    "    s_price = item.find_element_by_css_selector(\n",
    "        \".s-price\").text.split(\" \")[0][:-1]\n",
    "\n",
    "    data = {\n",
    "        \"title\": title,\n",
    "        \"link\": link,\n",
    "        \"o_price\": o_price,\n",
    "        \"s_price\": s_price,\n",
    "    }\n",
    "\n",
    "    dict_list.append(data)"
   ]
  },
  {
   "cell_type": "code",
   "execution_count": 6,
   "metadata": {},
   "outputs": [],
   "source": [
    "# 브라우져 닫기\n",
    "driver.quit()"
   ]
  },
  {
   "cell_type": "markdown",
   "metadata": {},
   "source": [
    "데이터 프레임으로 만들기"
   ]
  },
  {
   "cell_type": "code",
   "execution_count": 7,
   "metadata": {},
   "outputs": [],
   "source": [
    "import pandas as pd"
   ]
  },
  {
   "cell_type": "code",
   "execution_count": 2,
   "metadata": {},
   "outputs": [
    {
     "ename": "NameError",
     "evalue": "name 'dict_list' is not defined",
     "output_type": "error",
     "traceback": [
      "\u001b[1;31m---------------------------------------------------------------------------\u001b[0m",
      "\u001b[1;31mNameError\u001b[0m                                 Traceback (most recent call last)",
      "\u001b[1;32m<ipython-input-2-a0d198f7785e>\u001b[0m in \u001b[0;36m<module>\u001b[1;34m\u001b[0m\n\u001b[1;32m----> 1\u001b[1;33m \u001b[0mdf\u001b[0m \u001b[1;33m=\u001b[0m \u001b[0mpd\u001b[0m\u001b[1;33m.\u001b[0m\u001b[0mDataFrame\u001b[0m\u001b[1;33m(\u001b[0m\u001b[0mdict_list\u001b[0m\u001b[1;33m)\u001b[0m\u001b[1;33m\u001b[0m\u001b[1;33m\u001b[0m\u001b[0m\n\u001b[0m\u001b[0;32m      2\u001b[0m \u001b[0mdf\u001b[0m\u001b[1;33m.\u001b[0m\u001b[0mtail\u001b[0m\u001b[1;33m(\u001b[0m\u001b[1;33m)\u001b[0m\u001b[1;33m\u001b[0m\u001b[1;33m\u001b[0m\u001b[0m\n",
      "\u001b[1;31mNameError\u001b[0m: name 'dict_list' is not defined"
     ]
    }
   ],
   "source": [
    "df = pd.DataFrame(dict_list)\n",
    "df.tail()"
   ]
  },
  {
   "cell_type": "markdown",
   "metadata": {},
   "source": [
    "값이 없는 o_price를 s_price로 넣기"
   ]
  },
  {
   "cell_type": "code",
   "execution_count": 9,
   "metadata": {},
   "outputs": [],
   "source": [
    "nodata_indexs = df[\"o_price\"] == \"\""
   ]
  },
  {
   "cell_type": "code",
   "execution_count": 10,
   "metadata": {},
   "outputs": [
    {
     "data": {
      "text/plain": [
       "163    \n",
       "180    \n",
       "182    \n",
       "190    \n",
       "193    \n",
       "Name: o_price, dtype: object"
      ]
     },
     "execution_count": 10,
     "metadata": {},
     "output_type": "execute_result"
    }
   ],
   "source": [
    "df[\"o_price\"][nodata_indexs].tail()"
   ]
  },
  {
   "cell_type": "code",
   "execution_count": 11,
   "metadata": {},
   "outputs": [
    {
     "data": {
      "text/plain": [
       "163    29,000\n",
       "180    20,700\n",
       "182    19,900\n",
       "190    29,500\n",
       "193    24,500\n",
       "Name: s_price, dtype: object"
      ]
     },
     "execution_count": 11,
     "metadata": {},
     "output_type": "execute_result"
    }
   ],
   "source": [
    "df[\"s_price\"][nodata_indexs].tail()"
   ]
  },
  {
   "cell_type": "code",
   "execution_count": 12,
   "metadata": {},
   "outputs": [
    {
     "data": {
      "text/html": [
       "<div>\n",
       "<style scoped>\n",
       "    .dataframe tbody tr th:only-of-type {\n",
       "        vertical-align: middle;\n",
       "    }\n",
       "\n",
       "    .dataframe tbody tr th {\n",
       "        vertical-align: top;\n",
       "    }\n",
       "\n",
       "    .dataframe thead th {\n",
       "        text-align: right;\n",
       "    }\n",
       "</style>\n",
       "<table border=\"1\" class=\"dataframe\">\n",
       "  <thead>\n",
       "    <tr style=\"text-align: right;\">\n",
       "      <th></th>\n",
       "      <th>title</th>\n",
       "      <th>link</th>\n",
       "      <th>o_price</th>\n",
       "      <th>s_price</th>\n",
       "    </tr>\n",
       "  </thead>\n",
       "  <tbody>\n",
       "    <tr>\n",
       "      <th>163</th>\n",
       "      <td>역주행상품 조이풀 천연소가죽 이지샌들</td>\n",
       "      <td>http://item.gmarket.co.kr/Item?goodscode=21421...</td>\n",
       "      <td></td>\n",
       "      <td>29,000</td>\n",
       "    </tr>\n",
       "    <tr>\n",
       "      <th>180</th>\n",
       "      <td>[쟌슨빌소시지]쟌슨빌 폭립 1+1 (참나무BBQ 500g + 갈비맛 500g)</td>\n",
       "      <td>http://item.gmarket.co.kr/Item?goodscode=20895...</td>\n",
       "      <td></td>\n",
       "      <td>20,700</td>\n",
       "    </tr>\n",
       "    <tr>\n",
       "      <th>182</th>\n",
       "      <td>파격조건 고메 함박스테이크 152gX10개/핫도그 80gX24봉 중 택1</td>\n",
       "      <td>http://item.gmarket.co.kr/Item?goodscode=21421...</td>\n",
       "      <td></td>\n",
       "      <td>19,900</td>\n",
       "    </tr>\n",
       "    <tr>\n",
       "      <th>190</th>\n",
       "      <td>[상하치즈]상하 유기농 어린이 고칼슘치즈 4단계 100매/아기치즈</td>\n",
       "      <td>http://item.gmarket.co.kr/Item?goodscode=21799...</td>\n",
       "      <td></td>\n",
       "      <td>29,500</td>\n",
       "    </tr>\n",
       "    <tr>\n",
       "      <th>193</th>\n",
       "      <td>롯데칠성음료 T 롯데칠성 칠성사이다 제로 250ml x 3</td>\n",
       "      <td>http://item.gmarket.co.kr/Item?goodscode=21078...</td>\n",
       "      <td></td>\n",
       "      <td>24,500</td>\n",
       "    </tr>\n",
       "  </tbody>\n",
       "</table>\n",
       "</div>"
      ],
      "text/plain": [
       "                                           title  \\\n",
       "163                         역주행상품 조이풀 천연소가죽 이지샌들   \n",
       "180  [쟌슨빌소시지]쟌슨빌 폭립 1+1 (참나무BBQ 500g + 갈비맛 500g)   \n",
       "182     파격조건 고메 함박스테이크 152gX10개/핫도그 80gX24봉 중 택1   \n",
       "190         [상하치즈]상하 유기농 어린이 고칼슘치즈 4단계 100매/아기치즈   \n",
       "193             롯데칠성음료 T 롯데칠성 칠성사이다 제로 250ml x 3   \n",
       "\n",
       "                                                  link o_price s_price  \n",
       "163  http://item.gmarket.co.kr/Item?goodscode=21421...          29,000  \n",
       "180  http://item.gmarket.co.kr/Item?goodscode=20895...          20,700  \n",
       "182  http://item.gmarket.co.kr/Item?goodscode=21421...          19,900  \n",
       "190  http://item.gmarket.co.kr/Item?goodscode=21799...          29,500  \n",
       "193  http://item.gmarket.co.kr/Item?goodscode=21078...          24,500  "
      ]
     },
     "execution_count": 12,
     "metadata": {},
     "output_type": "execute_result"
    }
   ],
   "source": [
    "df[nodata_indexs].tail()"
   ]
  },
  {
   "cell_type": "markdown",
   "metadata": {},
   "source": [
    "값이 없는 o_price를 s_price로 넣기"
   ]
  },
  {
   "cell_type": "code",
   "execution_count": 13,
   "metadata": {},
   "outputs": [],
   "source": [
    "df[\"o_price\"][nodata_indexs] = df[\"s_price\"][nodata_indexs]"
   ]
  },
  {
   "cell_type": "code",
   "execution_count": 14,
   "metadata": {},
   "outputs": [
    {
     "data": {
      "text/html": [
       "<div>\n",
       "<style scoped>\n",
       "    .dataframe tbody tr th:only-of-type {\n",
       "        vertical-align: middle;\n",
       "    }\n",
       "\n",
       "    .dataframe tbody tr th {\n",
       "        vertical-align: top;\n",
       "    }\n",
       "\n",
       "    .dataframe thead th {\n",
       "        text-align: right;\n",
       "    }\n",
       "</style>\n",
       "<table border=\"1\" class=\"dataframe\">\n",
       "  <thead>\n",
       "    <tr style=\"text-align: right;\">\n",
       "      <th></th>\n",
       "      <th>title</th>\n",
       "      <th>link</th>\n",
       "      <th>o_price</th>\n",
       "      <th>s_price</th>\n",
       "    </tr>\n",
       "  </thead>\n",
       "  <tbody>\n",
       "    <tr>\n",
       "      <th>163</th>\n",
       "      <td>역주행상품 조이풀 천연소가죽 이지샌들</td>\n",
       "      <td>http://item.gmarket.co.kr/Item?goodscode=21421...</td>\n",
       "      <td>29,000</td>\n",
       "      <td>29,000</td>\n",
       "    </tr>\n",
       "    <tr>\n",
       "      <th>180</th>\n",
       "      <td>[쟌슨빌소시지]쟌슨빌 폭립 1+1 (참나무BBQ 500g + 갈비맛 500g)</td>\n",
       "      <td>http://item.gmarket.co.kr/Item?goodscode=20895...</td>\n",
       "      <td>20,700</td>\n",
       "      <td>20,700</td>\n",
       "    </tr>\n",
       "    <tr>\n",
       "      <th>182</th>\n",
       "      <td>파격조건 고메 함박스테이크 152gX10개/핫도그 80gX24봉 중 택1</td>\n",
       "      <td>http://item.gmarket.co.kr/Item?goodscode=21421...</td>\n",
       "      <td>19,900</td>\n",
       "      <td>19,900</td>\n",
       "    </tr>\n",
       "    <tr>\n",
       "      <th>190</th>\n",
       "      <td>[상하치즈]상하 유기농 어린이 고칼슘치즈 4단계 100매/아기치즈</td>\n",
       "      <td>http://item.gmarket.co.kr/Item?goodscode=21799...</td>\n",
       "      <td>29,500</td>\n",
       "      <td>29,500</td>\n",
       "    </tr>\n",
       "    <tr>\n",
       "      <th>193</th>\n",
       "      <td>롯데칠성음료 T 롯데칠성 칠성사이다 제로 250ml x 3</td>\n",
       "      <td>http://item.gmarket.co.kr/Item?goodscode=21078...</td>\n",
       "      <td>24,500</td>\n",
       "      <td>24,500</td>\n",
       "    </tr>\n",
       "  </tbody>\n",
       "</table>\n",
       "</div>"
      ],
      "text/plain": [
       "                                           title  \\\n",
       "163                         역주행상품 조이풀 천연소가죽 이지샌들   \n",
       "180  [쟌슨빌소시지]쟌슨빌 폭립 1+1 (참나무BBQ 500g + 갈비맛 500g)   \n",
       "182     파격조건 고메 함박스테이크 152gX10개/핫도그 80gX24봉 중 택1   \n",
       "190         [상하치즈]상하 유기농 어린이 고칼슘치즈 4단계 100매/아기치즈   \n",
       "193             롯데칠성음료 T 롯데칠성 칠성사이다 제로 250ml x 3   \n",
       "\n",
       "                                                  link o_price s_price  \n",
       "163  http://item.gmarket.co.kr/Item?goodscode=21421...  29,000  29,000  \n",
       "180  http://item.gmarket.co.kr/Item?goodscode=20895...  20,700  20,700  \n",
       "182  http://item.gmarket.co.kr/Item?goodscode=21421...  19,900  19,900  \n",
       "190  http://item.gmarket.co.kr/Item?goodscode=21799...  29,500  29,500  \n",
       "193  http://item.gmarket.co.kr/Item?goodscode=21078...  24,500  24,500  "
      ]
     },
     "execution_count": 14,
     "metadata": {},
     "output_type": "execute_result"
    }
   ],
   "source": [
    "df.loc[nodata_indexs].tail()"
   ]
  },
  {
   "cell_type": "code",
   "execution_count": 15,
   "metadata": {},
   "outputs": [
    {
     "data": {
      "text/html": [
       "<div>\n",
       "<style scoped>\n",
       "    .dataframe tbody tr th:only-of-type {\n",
       "        vertical-align: middle;\n",
       "    }\n",
       "\n",
       "    .dataframe tbody tr th {\n",
       "        vertical-align: top;\n",
       "    }\n",
       "\n",
       "    .dataframe thead th {\n",
       "        text-align: right;\n",
       "    }\n",
       "</style>\n",
       "<table border=\"1\" class=\"dataframe\">\n",
       "  <thead>\n",
       "    <tr style=\"text-align: right;\">\n",
       "      <th></th>\n",
       "      <th>title</th>\n",
       "      <th>link</th>\n",
       "      <th>o_price</th>\n",
       "      <th>s_price</th>\n",
       "    </tr>\n",
       "  </thead>\n",
       "  <tbody>\n",
       "    <tr>\n",
       "      <th>195</th>\n",
       "      <td>[닉스]닉스 흄 맨투맨 슬랙스 청바지 외 특가전</td>\n",
       "      <td>http://item.gmarket.co.kr/Item?goodscode=17601...</td>\n",
       "      <td>25,600</td>\n",
       "      <td>12,800</td>\n",
       "    </tr>\n",
       "    <tr>\n",
       "      <th>196</th>\n",
       "      <td>[한상궁김치]100% 국산 열무김치 2kg 열무비빔밥 열무국수에 제격</td>\n",
       "      <td>http://item.gmarket.co.kr/Item?goodscode=17981...</td>\n",
       "      <td>18,600</td>\n",
       "      <td>13,000</td>\n",
       "    </tr>\n",
       "    <tr>\n",
       "      <th>197</th>\n",
       "      <td>[돌]DOLE 돌후룻팝40팩(피치+애플+오렌지+망고+파인)</td>\n",
       "      <td>http://item.gmarket.co.kr/Item?goodscode=20449...</td>\n",
       "      <td>17,900</td>\n",
       "      <td>16,650</td>\n",
       "    </tr>\n",
       "    <tr>\n",
       "      <th>198</th>\n",
       "      <td>[플라팜]허그 유아 샴푸의자 목욕의자</td>\n",
       "      <td>http://item.gmarket.co.kr/Item?goodscode=66728...</td>\n",
       "      <td>51,800</td>\n",
       "      <td>25,900</td>\n",
       "    </tr>\n",
       "    <tr>\n",
       "      <th>199</th>\n",
       "      <td>[홈에디션명진]대용량 롤백 500매x3개 위생백 지퍼백 위생장갑</td>\n",
       "      <td>http://item.gmarket.co.kr/Item?goodscode=21349...</td>\n",
       "      <td>10,580</td>\n",
       "      <td>10,000</td>\n",
       "    </tr>\n",
       "  </tbody>\n",
       "</table>\n",
       "</div>"
      ],
      "text/plain": [
       "                                      title  \\\n",
       "195              [닉스]닉스 흄 맨투맨 슬랙스 청바지 외 특가전   \n",
       "196  [한상궁김치]100% 국산 열무김치 2kg 열무비빔밥 열무국수에 제격   \n",
       "197        [돌]DOLE 돌후룻팝40팩(피치+애플+오렌지+망고+파인)   \n",
       "198                    [플라팜]허그 유아 샴푸의자 목욕의자   \n",
       "199     [홈에디션명진]대용량 롤백 500매x3개 위생백 지퍼백 위생장갑   \n",
       "\n",
       "                                                  link o_price s_price  \n",
       "195  http://item.gmarket.co.kr/Item?goodscode=17601...  25,600  12,800  \n",
       "196  http://item.gmarket.co.kr/Item?goodscode=17981...  18,600  13,000  \n",
       "197  http://item.gmarket.co.kr/Item?goodscode=20449...  17,900  16,650  \n",
       "198  http://item.gmarket.co.kr/Item?goodscode=66728...  51,800  25,900  \n",
       "199  http://item.gmarket.co.kr/Item?goodscode=21349...  10,580  10,000  "
      ]
     },
     "execution_count": 15,
     "metadata": {},
     "output_type": "execute_result"
    }
   ],
   "source": [
    "df.tail()"
   ]
  },
  {
   "cell_type": "markdown",
   "metadata": {},
   "source": [
    "할인률 계산해서 컬럼에 추가하기"
   ]
  },
  {
   "cell_type": "code",
   "execution_count": 16,
   "metadata": {},
   "outputs": [],
   "source": [
    "df[\"o_price\"] = df[\"o_price\"].apply(\n",
    "    lambda price: price.replace(\",\", \"\")).astype(\"int\")"
   ]
  },
  {
   "cell_type": "code",
   "execution_count": 17,
   "metadata": {},
   "outputs": [],
   "source": [
    "df[\"s_price\"] = df[\"s_price\"].apply(\n",
    "    lambda price: price.replace(\",\", \"\")).astype(\"int\")"
   ]
  },
  {
   "cell_type": "code",
   "execution_count": 18,
   "metadata": {},
   "outputs": [],
   "source": [
    "df[\"sale_rate\"] = round((1 - df[\"s_price\"] / df[\"o_price\"]) * 100, 2)"
   ]
  },
  {
   "cell_type": "code",
   "execution_count": 19,
   "metadata": {},
   "outputs": [
    {
     "data": {
      "text/html": [
       "<div>\n",
       "<style scoped>\n",
       "    .dataframe tbody tr th:only-of-type {\n",
       "        vertical-align: middle;\n",
       "    }\n",
       "\n",
       "    .dataframe tbody tr th {\n",
       "        vertical-align: top;\n",
       "    }\n",
       "\n",
       "    .dataframe thead th {\n",
       "        text-align: right;\n",
       "    }\n",
       "</style>\n",
       "<table border=\"1\" class=\"dataframe\">\n",
       "  <thead>\n",
       "    <tr style=\"text-align: right;\">\n",
       "      <th></th>\n",
       "      <th>title</th>\n",
       "      <th>link</th>\n",
       "      <th>o_price</th>\n",
       "      <th>s_price</th>\n",
       "      <th>sale_rate</th>\n",
       "    </tr>\n",
       "  </thead>\n",
       "  <tbody>\n",
       "    <tr>\n",
       "      <th>195</th>\n",
       "      <td>[닉스]닉스 흄 맨투맨 슬랙스 청바지 외 특가전</td>\n",
       "      <td>http://item.gmarket.co.kr/Item?goodscode=17601...</td>\n",
       "      <td>25600</td>\n",
       "      <td>12800</td>\n",
       "      <td>50.00</td>\n",
       "    </tr>\n",
       "    <tr>\n",
       "      <th>196</th>\n",
       "      <td>[한상궁김치]100% 국산 열무김치 2kg 열무비빔밥 열무국수에 제격</td>\n",
       "      <td>http://item.gmarket.co.kr/Item?goodscode=17981...</td>\n",
       "      <td>18600</td>\n",
       "      <td>13000</td>\n",
       "      <td>30.11</td>\n",
       "    </tr>\n",
       "    <tr>\n",
       "      <th>197</th>\n",
       "      <td>[돌]DOLE 돌후룻팝40팩(피치+애플+오렌지+망고+파인)</td>\n",
       "      <td>http://item.gmarket.co.kr/Item?goodscode=20449...</td>\n",
       "      <td>17900</td>\n",
       "      <td>16650</td>\n",
       "      <td>6.98</td>\n",
       "    </tr>\n",
       "    <tr>\n",
       "      <th>198</th>\n",
       "      <td>[플라팜]허그 유아 샴푸의자 목욕의자</td>\n",
       "      <td>http://item.gmarket.co.kr/Item?goodscode=66728...</td>\n",
       "      <td>51800</td>\n",
       "      <td>25900</td>\n",
       "      <td>50.00</td>\n",
       "    </tr>\n",
       "    <tr>\n",
       "      <th>199</th>\n",
       "      <td>[홈에디션명진]대용량 롤백 500매x3개 위생백 지퍼백 위생장갑</td>\n",
       "      <td>http://item.gmarket.co.kr/Item?goodscode=21349...</td>\n",
       "      <td>10580</td>\n",
       "      <td>10000</td>\n",
       "      <td>5.48</td>\n",
       "    </tr>\n",
       "  </tbody>\n",
       "</table>\n",
       "</div>"
      ],
      "text/plain": [
       "                                      title  \\\n",
       "195              [닉스]닉스 흄 맨투맨 슬랙스 청바지 외 특가전   \n",
       "196  [한상궁김치]100% 국산 열무김치 2kg 열무비빔밥 열무국수에 제격   \n",
       "197        [돌]DOLE 돌후룻팝40팩(피치+애플+오렌지+망고+파인)   \n",
       "198                    [플라팜]허그 유아 샴푸의자 목욕의자   \n",
       "199     [홈에디션명진]대용량 롤백 500매x3개 위생백 지퍼백 위생장갑   \n",
       "\n",
       "                                                  link  o_price  s_price  \\\n",
       "195  http://item.gmarket.co.kr/Item?goodscode=17601...    25600    12800   \n",
       "196  http://item.gmarket.co.kr/Item?goodscode=17981...    18600    13000   \n",
       "197  http://item.gmarket.co.kr/Item?goodscode=20449...    17900    16650   \n",
       "198  http://item.gmarket.co.kr/Item?goodscode=66728...    51800    25900   \n",
       "199  http://item.gmarket.co.kr/Item?goodscode=21349...    10580    10000   \n",
       "\n",
       "     sale_rate  \n",
       "195      50.00  \n",
       "196      30.11  \n",
       "197       6.98  \n",
       "198      50.00  \n",
       "199       5.48  "
      ]
     },
     "execution_count": 19,
     "metadata": {},
     "output_type": "execute_result"
    }
   ],
   "source": [
    "df.tail()"
   ]
  },
  {
   "cell_type": "code",
   "execution_count": 20,
   "metadata": {},
   "outputs": [
    {
     "data": {
      "text/html": [
       "<div>\n",
       "<style scoped>\n",
       "    .dataframe tbody tr th:only-of-type {\n",
       "        vertical-align: middle;\n",
       "    }\n",
       "\n",
       "    .dataframe tbody tr th {\n",
       "        vertical-align: top;\n",
       "    }\n",
       "\n",
       "    .dataframe thead th {\n",
       "        text-align: right;\n",
       "    }\n",
       "</style>\n",
       "<table border=\"1\" class=\"dataframe\">\n",
       "  <thead>\n",
       "    <tr style=\"text-align: right;\">\n",
       "      <th></th>\n",
       "      <th>title</th>\n",
       "      <th>link</th>\n",
       "      <th>o_price</th>\n",
       "      <th>s_price</th>\n",
       "      <th>sale_rate</th>\n",
       "    </tr>\n",
       "  </thead>\n",
       "  <tbody>\n",
       "    <tr>\n",
       "      <th>0</th>\n",
       "      <td>[꼼짝마스크]블루본 아이노우 썸머라인 소형 마스크 KF80 KF94</td>\n",
       "      <td>http://item.gmarket.co.kr/Item?goodscode=20954...</td>\n",
       "      <td>100000</td>\n",
       "      <td>30000</td>\n",
       "      <td>70.0</td>\n",
       "    </tr>\n",
       "    <tr>\n",
       "      <th>1</th>\n",
       "      <td>반반한샵 가을신상/블라우스/원피스/팬츠/SET</td>\n",
       "      <td>http://item.gmarket.co.kr/Item?goodscode=21782...</td>\n",
       "      <td>33000</td>\n",
       "      <td>9900</td>\n",
       "      <td>70.0</td>\n",
       "    </tr>\n",
       "    <tr>\n",
       "      <th>2</th>\n",
       "      <td>[오가닉맘]오가닉맘 21FW 가을신상내의/출산선물/아동팬티</td>\n",
       "      <td>http://item.gmarket.co.kr/Item?goodscode=18742...</td>\n",
       "      <td>61000</td>\n",
       "      <td>18300</td>\n",
       "      <td>70.0</td>\n",
       "    </tr>\n",
       "    <tr>\n",
       "      <th>3</th>\n",
       "      <td>요즘에/가을신상+10%/청바지/슬랙스/면팬츠/밴딩/3XL~</td>\n",
       "      <td>http://item.gmarket.co.kr/Item?goodscode=18984...</td>\n",
       "      <td>33000</td>\n",
       "      <td>9900</td>\n",
       "      <td>70.0</td>\n",
       "    </tr>\n",
       "    <tr>\n",
       "      <th>4</th>\n",
       "      <td>[또래친구]주니어 가을OPEN+여름OFF 균일가 최종 마감전</td>\n",
       "      <td>http://item.gmarket.co.kr/Item?goodscode=67104...</td>\n",
       "      <td>23000</td>\n",
       "      <td>6900</td>\n",
       "      <td>70.0</td>\n",
       "    </tr>\n",
       "  </tbody>\n",
       "</table>\n",
       "</div>"
      ],
      "text/plain": [
       "                                   title  \\\n",
       "0  [꼼짝마스크]블루본 아이노우 썸머라인 소형 마스크 KF80 KF94   \n",
       "1              반반한샵 가을신상/블라우스/원피스/팬츠/SET   \n",
       "2       [오가닉맘]오가닉맘 21FW 가을신상내의/출산선물/아동팬티   \n",
       "3       요즘에/가을신상+10%/청바지/슬랙스/면팬츠/밴딩/3XL~   \n",
       "4      [또래친구]주니어 가을OPEN+여름OFF 균일가 최종 마감전   \n",
       "\n",
       "                                                link  o_price  s_price  \\\n",
       "0  http://item.gmarket.co.kr/Item?goodscode=20954...   100000    30000   \n",
       "1  http://item.gmarket.co.kr/Item?goodscode=21782...    33000     9900   \n",
       "2  http://item.gmarket.co.kr/Item?goodscode=18742...    61000    18300   \n",
       "3  http://item.gmarket.co.kr/Item?goodscode=18984...    33000     9900   \n",
       "4  http://item.gmarket.co.kr/Item?goodscode=67104...    23000     6900   \n",
       "\n",
       "   sale_rate  \n",
       "0       70.0  \n",
       "1       70.0  \n",
       "2       70.0  \n",
       "3       70.0  \n",
       "4       70.0  "
      ]
     },
     "execution_count": 20,
     "metadata": {},
     "output_type": "execute_result"
    }
   ],
   "source": [
    "df[df[\"sale_rate\"] > 50].sort_values(\"sale_rate\", ascending=False).reset_index(drop=True).head()"
   ]
  },
  {
   "cell_type": "code",
   "execution_count": null,
   "metadata": {},
   "outputs": [],
   "source": []
  }
 ],
 "metadata": {
  "kernelspec": {
   "display_name": "Python 3",
   "language": "python",
   "name": "python3"
  },
  "language_info": {
   "codemirror_mode": {
    "name": "ipython",
    "version": 3
   },
   "file_extension": ".py",
   "mimetype": "text/x-python",
   "name": "python",
   "nbconvert_exporter": "python",
   "pygments_lexer": "ipython3",
   "version": "3.8.5"
  }
 },
 "nbformat": 4,
 "nbformat_minor": 4
}
