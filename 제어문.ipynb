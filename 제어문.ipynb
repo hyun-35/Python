{
 "cells": [
  {
   "cell_type": "markdown",
   "metadata": {},
   "source": [
    "# 1. 조건문\n",
    "- if문\n",
    "```\n",
    "if ~ :\n",
    "    ~~\n",
    "elif ~ :\n",
    "    ~~\n",
    "else :\n",
    "    ~~~\n",
    "```"
   ]
  },
  {
   "cell_type": "code",
   "execution_count": 1,
   "metadata": {},
   "outputs": [
    {
     "name": "stdout",
     "output_type": "stream",
     "text": [
      "점수 :98\n",
      "Very good\n"
     ]
    }
   ],
   "source": [
    "# 점수가 90점 이상이면 Very good, 80점 이상이면 Good, 그 외에는 Bad\n",
    "# 위에서 조건 추가 ) 90점 이상인데 점수가 100점이면 Perfect\n",
    "\n",
    "x = int(input('점수 :'))\n",
    "\n",
    "if x >= 90 :\n",
    "    if x == 100:\n",
    "        print('Perfect')\n",
    "    else :\n",
    "        print('Very good')\n",
    "elif x >= 80 :\n",
    "    print('Good')\n",
    "else:\n",
    "    print('Bad')"
   ]
  },
  {
   "cell_type": "markdown",
   "metadata": {},
   "source": [
    "# 2. 반복문\n",
    "- for문\n",
    "- while문"
   ]
  },
  {
   "cell_type": "markdown",
   "metadata": {},
   "source": [
    "### (1) for문\n",
    "- 정해진 범위에서 반복\n",
    "```\n",
    "for 반복 변수 in 반복 범위:\n",
    "```"
   ]
  },
  {
   "cell_type": "code",
   "execution_count": 2,
   "metadata": {},
   "outputs": [
    {
     "name": "stdout",
     "output_type": "stream",
     "text": [
      "James\n",
      "Robert\n",
      "Lisa\n"
     ]
    }
   ],
   "source": [
    "for i in ['James','Robert','Lisa']:\n",
    "    print(i)"
   ]
  },
  {
   "cell_type": "code",
   "execution_count": 3,
   "metadata": {},
   "outputs": [
    {
     "name": "stdout",
     "output_type": "stream",
     "text": [
      "0\n",
      "1\n",
      "2\n",
      "3\n",
      "4\n"
     ]
    }
   ],
   "source": [
    "for i in range(0,5):\n",
    "    print(i)"
   ]
  },
  {
   "cell_type": "code",
   "execution_count": 4,
   "metadata": {},
   "outputs": [
    {
     "data": {
      "text/plain": [
       "([0, 2, 4], [-10, -7, -4, -1], [3, 0, -3, -6, -9], [])"
      ]
     },
     "execution_count": 4,
     "metadata": {},
     "output_type": "execute_result"
    }
   ],
   "source": [
    "# range함수 \n",
    "list1 = list(range(0,5,2))     # 0~4 , 2씩 더해서 \n",
    "list2 = list(range(-10,0,3))   # -10~0, 3씩 더해서\n",
    "list3 = list(range(3,-10,-3))   # 3~-10, -3씩 더해서\n",
    "list4 = list(range(0,-5,1))    #0~-5, 1씩 더해서 -> 불가능. 따라서 빈 리스트를 반환\n",
    "\n",
    "list1, list2, list3, list4"
   ]
  },
  {
   "cell_type": "code",
   "execution_count": 5,
   "metadata": {},
   "outputs": [
    {
     "name": "stdout",
     "output_type": "stream",
     "text": [
      "0\n",
      "2\n",
      "4\n"
     ]
    }
   ],
   "source": [
    "for i in range(0,6,2):\n",
    "    print(i)"
   ]
  },
  {
   "cell_type": "code",
   "execution_count": 6,
   "metadata": {},
   "outputs": [
    {
     "name": "stdout",
     "output_type": "stream",
     "text": [
      "x1 y1\n",
      "x1 y2\n",
      "x2 y1\n",
      "x2 y2\n"
     ]
    }
   ],
   "source": [
    "# 두개의 리스트에서 각 요소로 이루어진 (x,y)쌍 출력\n",
    "\n",
    "x_list = ['x1','x2']\n",
    "y_list = ['y1','y2']\n",
    "\n",
    "for i in x_list:\n",
    "    for j in y_list:\n",
    "        print(i,j)"
   ]
  },
  {
   "cell_type": "code",
   "execution_count": 7,
   "metadata": {},
   "outputs": [
    {
     "name": "stdout",
     "output_type": "stream",
     "text": [
      "James 95\n",
      "Robert 96\n",
      "Lisa 97\n",
      "Mary 92\n"
     ]
    }
   ],
   "source": [
    "# 각 리스트에서 각 순서마다 이름과 점수를 출력\n",
    "\n",
    "names = ['James','Robert','Lisa','Mary']\n",
    "scores = [95,96,97,92]\n",
    "\n",
    "for i in range(0,len(names)):\n",
    "    print(names[i],scores[i])"
   ]
  },
  {
   "cell_type": "code",
   "execution_count": 8,
   "metadata": {},
   "outputs": [
    {
     "name": "stdout",
     "output_type": "stream",
     "text": [
      "James 95\n",
      "Robert 96\n",
      "Lisa 97\n",
      "Mary 92\n"
     ]
    }
   ],
   "source": [
    "# zip함수 : 같은 길이의 데이터를 하나로 묶어주는 함수\n",
    "\n",
    "for name, score in zip(names, scores):\n",
    "    print(name, score)"
   ]
  },
  {
   "cell_type": "code",
   "execution_count": 9,
   "metadata": {},
   "outputs": [],
   "source": [
    "# List comprehension\n",
    "# for문 : [반복실행문 for 반복변수 in 반복범위]\n",
    "# 조건문 포함시, 반복범위 뒤에 if문을 쓰면됨"
   ]
  },
  {
   "cell_type": "code",
   "execution_count": 10,
   "metadata": {},
   "outputs": [
    {
     "name": "stdout",
     "output_type": "stream",
     "text": [
      "[1, 4, 9, 16, 25]\n"
     ]
    }
   ],
   "source": [
    "# 각 항목을 제곱해서 리스트로 만들기\n",
    "\n",
    "numbers = [1,2,3,4,5]\n",
    "list1 = []\n",
    "\n",
    "for i in numbers:\n",
    "    x = i ** 2\n",
    "    list1.append(x)\n",
    "    \n",
    "print(list1)"
   ]
  },
  {
   "cell_type": "code",
   "execution_count": 11,
   "metadata": {},
   "outputs": [
    {
     "data": {
      "text/plain": [
       "[1, 4, 9, 16, 25]"
      ]
     },
     "execution_count": 11,
     "metadata": {},
     "output_type": "execute_result"
    }
   ],
   "source": [
    "# 위의 반복문을 리스트 컴프리헨션으로 작성\n",
    "\n",
    "list2 = [i**2 for i in numbers]\n",
    "list2"
   ]
  },
  {
   "cell_type": "code",
   "execution_count": 12,
   "metadata": {},
   "outputs": [
    {
     "data": {
      "text/plain": [
       "[9, 16, 25]"
      ]
     },
     "execution_count": 12,
     "metadata": {},
     "output_type": "execute_result"
    }
   ],
   "source": [
    "# 각 항목에서 3 이상의 숫자만 제곱한 리스트\n",
    "\n",
    "list3 = [i**2 for i in numbers if i>=3]\n",
    "list3"
   ]
  },
  {
   "cell_type": "markdown",
   "metadata": {},
   "source": [
    "### (2) while문\n",
    "- 조건에 따라서 반복 (조건이 True이면 밑의 코드를 반복한다)\n",
    "```\n",
    "while 조건문:\n",
    "```"
   ]
  },
  {
   "cell_type": "code",
   "execution_count": 13,
   "metadata": {},
   "outputs": [
    {
     "name": "stdout",
     "output_type": "stream",
     "text": [
      "6 21\n"
     ]
    }
   ],
   "source": [
    "# 자연수를 1부터 하나씩 더해서 그 합이 20이 넘게되면 while문을 빠져나오도록 작성\n",
    "\n",
    "i = 0\n",
    "i_sum = 0\n",
    "\n",
    "while i_sum < 20 :\n",
    "    i += 1\n",
    "    i_sum += i\n",
    "    \n",
    "print(i,i_sum)"
   ]
  },
  {
   "cell_type": "code",
   "execution_count": 14,
   "metadata": {},
   "outputs": [],
   "source": [
    "# while 문을 계속 반복 시키려면 while True: "
   ]
  },
  {
   "cell_type": "markdown",
   "metadata": {},
   "source": [
    "### (3) 반복문 제어\n",
    "- break\n",
    "- continue"
   ]
  },
  {
   "cell_type": "markdown",
   "metadata": {},
   "source": [
    "##### break\n",
    "- 반복문 안에서 break를 만나면 반복문을 빠져나옴"
   ]
  },
  {
   "cell_type": "code",
   "execution_count": 15,
   "metadata": {},
   "outputs": [
    {
     "name": "stdout",
     "output_type": "stream",
     "text": [
      "1\n",
      "2\n",
      "3\n",
      "break를 만나기 마지막 숫자 :  4\n"
     ]
    }
   ],
   "source": [
    "# 숫자를 0부터 하나씩 증가시키는 while문에서\n",
    "# 3보다 큰 수를 만나면 while문을 빠져나오도록\n",
    "\n",
    "num = 0\n",
    "\n",
    "while True:\n",
    "    num += 1\n",
    "    \n",
    "    if num > 3 :\n",
    "        break\n",
    "        \n",
    "    print(num)\n",
    "    \n",
    "print('break를 만나기 마지막 숫자 : ',num)"
   ]
  },
  {
   "cell_type": "code",
   "execution_count": 16,
   "metadata": {},
   "outputs": [
    {
     "name": "stdout",
     "output_type": "stream",
     "text": [
      "0\n",
      "1\n",
      "2\n"
     ]
    }
   ],
   "source": [
    "# 숫자가 2보다 크면 for문을 빠져나오도록\n",
    "\n",
    "for k in range(10):\n",
    "    if k > 2:\n",
    "        break\n",
    "    print(k)"
   ]
  },
  {
   "cell_type": "markdown",
   "metadata": {},
   "source": [
    "##### continue\n",
    "- continue를 만나면 그 밑의 코드를 실행하지 않고 반복문 처음으로 돌아가서 다음 반복을 진행"
   ]
  },
  {
   "cell_type": "code",
   "execution_count": 17,
   "metadata": {},
   "outputs": [
    {
     "name": "stdout",
     "output_type": "stream",
     "text": [
      "0\n",
      "1\n",
      "3\n",
      "4\n"
     ]
    }
   ],
   "source": [
    "# 0~4에서 2인 경우에는 코드를 실행 X\n",
    "\n",
    "for i in range(5):\n",
    "    if i == 2 :\n",
    "        continue\n",
    "    \n",
    "    print(i)"
   ]
  },
  {
   "cell_type": "code",
   "execution_count": 18,
   "metadata": {},
   "outputs": [
    {
     "name": "stdout",
     "output_type": "stream",
     "text": [
      "1\n",
      "continue next\n",
      "3\n"
     ]
    }
   ],
   "source": [
    "# 1부터 자연수에서 2인 경우에는 코드 실행 X, 4인 경우 while문을 끝냄\n",
    "\n",
    "k = 0\n",
    "\n",
    "while True:\n",
    "    k += 1\n",
    "    \n",
    "    if k == 2 :\n",
    "        print(\"continue next\")\n",
    "        continue\n",
    "        \n",
    "    if k == 4:\n",
    "        break\n",
    "    \n",
    "    print(k)   "
   ]
  },
  {
   "cell_type": "code",
   "execution_count": 19,
   "metadata": {},
   "outputs": [
    {
     "name": "stdout",
     "output_type": "stream",
     "text": [
      "0\n",
      "1\n",
      "continue next\n",
      "3\n",
      "4\n"
     ]
    }
   ],
   "source": [
    "k = 0\n",
    "\n",
    "for k in range(5):\n",
    "    \n",
    "    if k == 2:\n",
    "        print('continue next')\n",
    "        continue      #위로 올라가기 때문에 밑의 break가 실행이 안됨\n",
    "        break\n",
    "        \n",
    "    print(k)"
   ]
  }
 ],
 "metadata": {
  "kernelspec": {
   "display_name": "Python 3",
   "language": "python",
   "name": "python3"
  },
  "language_info": {
   "codemirror_mode": {
    "name": "ipython",
    "version": 3
   },
   "file_extension": ".py",
   "mimetype": "text/x-python",
   "name": "python",
   "nbconvert_exporter": "python",
   "pygments_lexer": "ipython3",
   "version": "3.8.5"
  }
 },
 "nbformat": 4,
 "nbformat_minor": 4
}
